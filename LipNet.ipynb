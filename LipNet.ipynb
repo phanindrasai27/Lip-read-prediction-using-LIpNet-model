{
 "cells": [
  {
   "attachments": {},
   "cell_type": "markdown",
   "id": "a3573a47-3689-4668-b62f-5c8451b2b4e9",
   "metadata": {
    "tags": []
   },
   "source": [
    "# 0. Install and Import Dependencies"
   ]
  },
  {
   "cell_type": "code",
   "execution_count": 1,
   "id": "ddfbccbe-41ae-4c23-98b1-a13868e2b499",
   "metadata": {
    "scrolled": true,
    "tags": []
   },
   "outputs": [
    {
     "name": "stdout",
     "output_type": "stream",
     "text": [
      "Package                      Version   Editable project location\n",
      "---------------------------- --------- --------------------------------------------\n",
      "absl-py                      2.0.0\n",
      "alembic                      1.12.0\n",
      "anyio                        4.0.0\n",
      "appnope                      0.1.3\n",
      "argon2-cffi                  23.1.0\n",
      "argon2-cffi-bindings         21.2.0\n",
      "arrow                        1.2.3\n",
      "asttokens                    2.4.0\n",
      "astunparse                   1.6.3\n",
      "async-lru                    2.0.4\n",
      "attrs                        23.1.0\n",
      "Babel                        2.12.1\n",
      "backcall                     0.2.0\n",
      "beautifulsoup4               4.12.2\n",
      "bleach                       6.0.0\n",
      "blinker                      1.6.2\n",
      "boltons                      23.0.0\n",
      "Brotli                       1.1.0\n",
      "cachetools                   5.3.1\n",
      "certifi                      2023.7.22\n",
      "cffi                         1.15.1\n",
      "charset-normalizer           3.2.0\n",
      "click                        8.1.7\n",
      "cloudpickle                  2.2.1\n",
      "colorama                     0.4.6\n",
      "comm                         0.1.4\n",
      "conda                        23.3.1\n",
      "conda-libmamba-solver        23.3.0\n",
      "conda-package-handling       2.2.0\n",
      "conda_package_streaming      0.9.0\n",
      "contourpy                    1.1.1\n",
      "cryptography                 41.0.3\n",
      "cycler                       0.11.0\n",
      "databricks-cli               0.17.8\n",
      "debugpy                      1.8.0\n",
      "decorator                    5.1.1\n",
      "defusedxml                   0.7.1\n",
      "distlib                      0.3.7\n",
      "docker                       6.1.3\n",
      "ensure                       1.0.2\n",
      "entrypoints                  0.4\n",
      "exceptiongroup               1.1.3\n",
      "executing                    1.2.0\n",
      "fastjsonschema               2.18.0\n",
      "filelock                     3.12.4\n",
      "Flask                        2.3.3\n",
      "Flask-Cors                   4.0.0\n",
      "flatbuffers                  23.5.26\n",
      "fonttools                    4.42.1\n",
      "fqdn                         1.5.1\n",
      "gast                         0.5.4\n",
      "gdown                        4.7.1\n",
      "gitdb                        4.0.10\n",
      "GitPython                    3.1.37\n",
      "google-auth                  2.23.2\n",
      "google-auth-oauthlib         1.0.0\n",
      "google-pasta                 0.2.0\n",
      "grpcio                       1.59.0\n",
      "gunicorn                     20.1.0\n",
      "h5py                         3.9.0\n",
      "idna                         3.4\n",
      "imageio                      2.31.5\n",
      "importlib-metadata           6.8.0\n",
      "ipykernel                    6.25.2\n",
      "ipython                      8.15.0\n",
      "isoduration                  20.11.0\n",
      "itsdangerous                 2.1.2\n",
      "jedi                         0.19.0\n",
      "Jinja2                       3.1.2\n",
      "jiwer                        3.0.3\n",
      "joblib                       1.3.2\n",
      "json5                        0.9.14\n",
      "jsonpatch                    1.32\n",
      "jsonpointer                  2.0\n",
      "jsonschema                   4.19.1\n",
      "jsonschema-specifications    2023.7.1\n",
      "jupyter_client               8.3.1\n",
      "jupyter_core                 5.3.2\n",
      "jupyter-events               0.7.0\n",
      "jupyter-lsp                  2.2.0\n",
      "jupyter_server               2.7.3\n",
      "jupyter_server_terminals     0.4.4\n",
      "jupyterlab                   4.0.6\n",
      "jupyterlab-pygments          0.2.2\n",
      "jupyterlab_server            2.25.0\n",
      "keras                        2.14.0\n",
      "kiwisolver                   1.4.5\n",
      "libclang                     16.0.6\n",
      "libmambapy                   1.4.2\n",
      "llvmlite                     0.41.0\n",
      "Mako                         1.2.4\n",
      "mamba                        1.4.2\n",
      "Markdown                     3.4.4\n",
      "MarkupSafe                   2.1.3\n",
      "matplotlib                   3.8.0\n",
      "matplotlib-inline            0.1.6\n",
      "mistune                      3.0.1\n",
      "ml-dtypes                    0.2.0\n",
      "mlflow                       2.2.2\n",
      "mlops                        0.0.0     /Users/phanindrasai/Desktop/made-with-ml/src\n",
      "nbclient                     0.8.0\n",
      "nbconvert                    7.8.0\n",
      "nbformat                     5.9.2\n",
      "nest-asyncio                 1.5.8\n",
      "notebook                     7.0.4\n",
      "notebook_shim                0.2.3\n",
      "numba                        0.58.0\n",
      "numpy                        1.25.2\n",
      "oauthlib                     3.2.2\n",
      "opencv-python                4.8.1.78\n",
      "opt-einsum                   3.3.0\n",
      "overrides                    7.4.0\n",
      "packaging                    23.1\n",
      "pandas                       2.1.1\n",
      "pandocfilters                1.5.0\n",
      "parso                        0.8.3\n",
      "pexpect                      4.8.0\n",
      "pickleshare                  0.7.5\n",
      "Pillow                       10.0.1\n",
      "pip                          23.2.1\n",
      "platformdirs                 3.10.0\n",
      "pluggy                       1.3.0\n",
      "prometheus-client            0.17.1\n",
      "prompt-toolkit               3.0.39\n",
      "protobuf                     4.24.3\n",
      "psutil                       5.9.5\n",
      "ptyprocess                   0.7.0\n",
      "pure-eval                    0.2.2\n",
      "pyarrow                      11.0.0\n",
      "pyasn1                       0.5.0\n",
      "pyasn1-modules               0.3.0\n",
      "pycosat                      0.6.4\n",
      "pycparser                    2.21\n",
      "Pygments                     2.16.1\n",
      "PyJWT                        2.8.0\n",
      "pyOpenSSL                    23.2.0\n",
      "pyparsing                    3.1.1\n",
      "PySocks                      1.7.1\n",
      "python-box                   6.0.2\n",
      "python-dateutil              2.8.2\n",
      "python-json-logger           2.0.7\n",
      "pytz                         2022.7.1\n",
      "PyYAML                       6.0.1\n",
      "pyzmq                        25.1.1\n",
      "querystring-parser           1.2.4\n",
      "rapidfuzz                    3.5.2\n",
      "referencing                  0.30.2\n",
      "requests                     2.31.0\n",
      "requests-oauthlib            1.3.1\n",
      "rfc3339-validator            0.1.4\n",
      "rfc3986-validator            0.1.1\n",
      "rpds-py                      0.10.3\n",
      "rsa                          4.9\n",
      "ruamel.yaml                  0.17.32\n",
      "ruamel.yaml.clib             0.2.7\n",
      "scikit-learn                 1.3.1\n",
      "scipy                        1.11.2\n",
      "seaborn                      0.13.0\n",
      "Send2Trash                   1.8.2\n",
      "setuptools                   68.1.2\n",
      "shap                         0.42.1\n",
      "six                          1.16.0\n",
      "sklearn                      0.0.post9\n",
      "slicer                       0.0.7\n",
      "smmap                        5.0.1\n",
      "sniffio                      1.3.0\n",
      "soupsieve                    2.5\n",
      "SQLAlchemy                   2.0.21\n",
      "sqlparse                     0.4.4\n",
      "stack-data                   0.6.2\n",
      "tabulate                     0.9.0\n",
      "tensorboard                  2.14.1\n",
      "tensorboard-data-server      0.7.1\n",
      "tensorflow                   2.14.0\n",
      "tensorflow-estimator         2.14.0\n",
      "tensorflow-io-gcs-filesystem 0.34.0\n",
      "tensorflow-macos             2.14.0\n",
      "termcolor                    2.3.0\n",
      "terminado                    0.17.1\n",
      "threadpoolctl                3.2.0\n",
      "tinycss2                     1.2.1\n",
      "tomli                        2.0.1\n",
      "toolz                        0.12.0\n",
      "tornado                      6.3.3\n",
      "tqdm                         4.66.1\n",
      "traitlets                    5.10.1\n",
      "types-PyYAML                 6.0.12.12\n",
      "typing_extensions            4.8.0\n",
      "tzdata                       2023.3\n",
      "uri-template                 1.3.0\n",
      "urllib3                      1.26.16\n",
      "virtualenv                   20.24.6\n",
      "wcwidth                      0.2.6\n",
      "webcolors                    1.13\n",
      "webencodings                 0.5.1\n",
      "websocket-client             1.6.3\n",
      "Werkzeug                     2.3.7\n",
      "wheel                        0.41.2\n",
      "wrapt                        1.14.1\n",
      "zipp                         3.17.0\n",
      "zstandard                    0.19.0\n"
     ]
    }
   ],
   "source": [
    "!pip list"
   ]
  },
  {
   "cell_type": "code",
   "execution_count": 2,
   "id": "02f907ea-f669-46c7-adcf-7f257e663448",
   "metadata": {
    "tags": []
   },
   "outputs": [
    {
     "name": "stdout",
     "output_type": "stream",
     "text": [
      "Requirement already satisfied: opencv-python in /Users/phanindrasai/miniforge3/lib/python3.10/site-packages (4.8.1.78)\n",
      "Requirement already satisfied: matplotlib in /Users/phanindrasai/miniforge3/lib/python3.10/site-packages (3.8.0)\n",
      "Requirement already satisfied: imageio in /Users/phanindrasai/miniforge3/lib/python3.10/site-packages (2.31.5)\n",
      "Requirement already satisfied: gdown in /Users/phanindrasai/miniforge3/lib/python3.10/site-packages (4.7.1)\n",
      "Requirement already satisfied: tensorflow in /Users/phanindrasai/miniforge3/lib/python3.10/site-packages (2.14.0)\n",
      "Requirement already satisfied: numpy>=1.21.2 in /Users/phanindrasai/miniforge3/lib/python3.10/site-packages (from opencv-python) (1.25.2)\n",
      "Requirement already satisfied: contourpy>=1.0.1 in /Users/phanindrasai/miniforge3/lib/python3.10/site-packages (from matplotlib) (1.1.1)\n",
      "Requirement already satisfied: cycler>=0.10 in /Users/phanindrasai/miniforge3/lib/python3.10/site-packages (from matplotlib) (0.11.0)\n",
      "Requirement already satisfied: fonttools>=4.22.0 in /Users/phanindrasai/miniforge3/lib/python3.10/site-packages (from matplotlib) (4.42.1)\n",
      "Requirement already satisfied: kiwisolver>=1.0.1 in /Users/phanindrasai/miniforge3/lib/python3.10/site-packages (from matplotlib) (1.4.5)\n",
      "Requirement already satisfied: packaging>=20.0 in /Users/phanindrasai/miniforge3/lib/python3.10/site-packages (from matplotlib) (23.1)\n",
      "Requirement already satisfied: pillow>=6.2.0 in /Users/phanindrasai/miniforge3/lib/python3.10/site-packages (from matplotlib) (10.0.1)\n",
      "Requirement already satisfied: pyparsing>=2.3.1 in /Users/phanindrasai/miniforge3/lib/python3.10/site-packages (from matplotlib) (3.1.1)\n",
      "Requirement already satisfied: python-dateutil>=2.7 in /Users/phanindrasai/miniforge3/lib/python3.10/site-packages (from matplotlib) (2.8.2)\n",
      "Requirement already satisfied: filelock in /Users/phanindrasai/miniforge3/lib/python3.10/site-packages (from gdown) (3.12.4)\n",
      "Requirement already satisfied: requests[socks] in /Users/phanindrasai/miniforge3/lib/python3.10/site-packages (from gdown) (2.31.0)\n",
      "Requirement already satisfied: six in /Users/phanindrasai/miniforge3/lib/python3.10/site-packages (from gdown) (1.16.0)\n",
      "Requirement already satisfied: tqdm in /Users/phanindrasai/miniforge3/lib/python3.10/site-packages (from gdown) (4.66.1)\n",
      "Requirement already satisfied: beautifulsoup4 in /Users/phanindrasai/miniforge3/lib/python3.10/site-packages (from gdown) (4.12.2)\n",
      "Requirement already satisfied: tensorflow-macos==2.14.0 in /Users/phanindrasai/miniforge3/lib/python3.10/site-packages (from tensorflow) (2.14.0)\n",
      "Requirement already satisfied: absl-py>=1.0.0 in /Users/phanindrasai/miniforge3/lib/python3.10/site-packages (from tensorflow-macos==2.14.0->tensorflow) (2.0.0)\n",
      "Requirement already satisfied: astunparse>=1.6.0 in /Users/phanindrasai/miniforge3/lib/python3.10/site-packages (from tensorflow-macos==2.14.0->tensorflow) (1.6.3)\n",
      "Requirement already satisfied: flatbuffers>=23.5.26 in /Users/phanindrasai/miniforge3/lib/python3.10/site-packages (from tensorflow-macos==2.14.0->tensorflow) (23.5.26)\n",
      "Requirement already satisfied: gast!=0.5.0,!=0.5.1,!=0.5.2,>=0.2.1 in /Users/phanindrasai/miniforge3/lib/python3.10/site-packages (from tensorflow-macos==2.14.0->tensorflow) (0.5.4)\n",
      "Requirement already satisfied: google-pasta>=0.1.1 in /Users/phanindrasai/miniforge3/lib/python3.10/site-packages (from tensorflow-macos==2.14.0->tensorflow) (0.2.0)\n",
      "Requirement already satisfied: h5py>=2.9.0 in /Users/phanindrasai/miniforge3/lib/python3.10/site-packages (from tensorflow-macos==2.14.0->tensorflow) (3.9.0)\n",
      "Requirement already satisfied: libclang>=13.0.0 in /Users/phanindrasai/miniforge3/lib/python3.10/site-packages (from tensorflow-macos==2.14.0->tensorflow) (16.0.6)\n",
      "Requirement already satisfied: ml-dtypes==0.2.0 in /Users/phanindrasai/miniforge3/lib/python3.10/site-packages (from tensorflow-macos==2.14.0->tensorflow) (0.2.0)\n",
      "Requirement already satisfied: opt-einsum>=2.3.2 in /Users/phanindrasai/miniforge3/lib/python3.10/site-packages (from tensorflow-macos==2.14.0->tensorflow) (3.3.0)\n",
      "Requirement already satisfied: protobuf!=4.21.0,!=4.21.1,!=4.21.2,!=4.21.3,!=4.21.4,!=4.21.5,<5.0.0dev,>=3.20.3 in /Users/phanindrasai/miniforge3/lib/python3.10/site-packages (from tensorflow-macos==2.14.0->tensorflow) (4.24.3)\n",
      "Requirement already satisfied: setuptools in /Users/phanindrasai/miniforge3/lib/python3.10/site-packages (from tensorflow-macos==2.14.0->tensorflow) (68.1.2)\n",
      "Requirement already satisfied: termcolor>=1.1.0 in /Users/phanindrasai/miniforge3/lib/python3.10/site-packages (from tensorflow-macos==2.14.0->tensorflow) (2.3.0)\n",
      "Requirement already satisfied: typing-extensions>=3.6.6 in /Users/phanindrasai/miniforge3/lib/python3.10/site-packages (from tensorflow-macos==2.14.0->tensorflow) (4.8.0)\n",
      "Requirement already satisfied: wrapt<1.15,>=1.11.0 in /Users/phanindrasai/miniforge3/lib/python3.10/site-packages (from tensorflow-macos==2.14.0->tensorflow) (1.14.1)\n",
      "Requirement already satisfied: tensorflow-io-gcs-filesystem>=0.23.1 in /Users/phanindrasai/miniforge3/lib/python3.10/site-packages (from tensorflow-macos==2.14.0->tensorflow) (0.34.0)\n",
      "Requirement already satisfied: grpcio<2.0,>=1.24.3 in /Users/phanindrasai/miniforge3/lib/python3.10/site-packages (from tensorflow-macos==2.14.0->tensorflow) (1.59.0)\n",
      "Requirement already satisfied: tensorboard<2.15,>=2.14 in /Users/phanindrasai/miniforge3/lib/python3.10/site-packages (from tensorflow-macos==2.14.0->tensorflow) (2.14.1)\n",
      "Requirement already satisfied: tensorflow-estimator<2.15,>=2.14.0 in /Users/phanindrasai/miniforge3/lib/python3.10/site-packages (from tensorflow-macos==2.14.0->tensorflow) (2.14.0)\n",
      "Requirement already satisfied: keras<2.15,>=2.14.0 in /Users/phanindrasai/miniforge3/lib/python3.10/site-packages (from tensorflow-macos==2.14.0->tensorflow) (2.14.0)\n",
      "Requirement already satisfied: soupsieve>1.2 in /Users/phanindrasai/miniforge3/lib/python3.10/site-packages (from beautifulsoup4->gdown) (2.5)\n",
      "Requirement already satisfied: charset-normalizer<4,>=2 in /Users/phanindrasai/miniforge3/lib/python3.10/site-packages (from requests[socks]->gdown) (3.2.0)\n",
      "Requirement already satisfied: idna<4,>=2.5 in /Users/phanindrasai/miniforge3/lib/python3.10/site-packages (from requests[socks]->gdown) (3.4)\n",
      "Requirement already satisfied: urllib3<3,>=1.21.1 in /Users/phanindrasai/miniforge3/lib/python3.10/site-packages (from requests[socks]->gdown) (1.26.16)\n",
      "Requirement already satisfied: certifi>=2017.4.17 in /Users/phanindrasai/miniforge3/lib/python3.10/site-packages (from requests[socks]->gdown) (2023.7.22)\n",
      "Requirement already satisfied: PySocks!=1.5.7,>=1.5.6 in /Users/phanindrasai/miniforge3/lib/python3.10/site-packages (from requests[socks]->gdown) (1.7.1)\n",
      "Requirement already satisfied: wheel<1.0,>=0.23.0 in /Users/phanindrasai/miniforge3/lib/python3.10/site-packages (from astunparse>=1.6.0->tensorflow-macos==2.14.0->tensorflow) (0.41.2)\n",
      "Requirement already satisfied: google-auth<3,>=1.6.3 in /Users/phanindrasai/miniforge3/lib/python3.10/site-packages (from tensorboard<2.15,>=2.14->tensorflow-macos==2.14.0->tensorflow) (2.23.2)\n",
      "Requirement already satisfied: google-auth-oauthlib<1.1,>=0.5 in /Users/phanindrasai/miniforge3/lib/python3.10/site-packages (from tensorboard<2.15,>=2.14->tensorflow-macos==2.14.0->tensorflow) (1.0.0)\n",
      "Requirement already satisfied: markdown>=2.6.8 in /Users/phanindrasai/miniforge3/lib/python3.10/site-packages (from tensorboard<2.15,>=2.14->tensorflow-macos==2.14.0->tensorflow) (3.4.4)\n",
      "Requirement already satisfied: tensorboard-data-server<0.8.0,>=0.7.0 in /Users/phanindrasai/miniforge3/lib/python3.10/site-packages (from tensorboard<2.15,>=2.14->tensorflow-macos==2.14.0->tensorflow) (0.7.1)\n",
      "Requirement already satisfied: werkzeug>=1.0.1 in /Users/phanindrasai/miniforge3/lib/python3.10/site-packages (from tensorboard<2.15,>=2.14->tensorflow-macos==2.14.0->tensorflow) (2.3.7)\n",
      "Requirement already satisfied: cachetools<6.0,>=2.0.0 in /Users/phanindrasai/miniforge3/lib/python3.10/site-packages (from google-auth<3,>=1.6.3->tensorboard<2.15,>=2.14->tensorflow-macos==2.14.0->tensorflow) (5.3.1)\n",
      "Requirement already satisfied: pyasn1-modules>=0.2.1 in /Users/phanindrasai/miniforge3/lib/python3.10/site-packages (from google-auth<3,>=1.6.3->tensorboard<2.15,>=2.14->tensorflow-macos==2.14.0->tensorflow) (0.3.0)\n",
      "Requirement already satisfied: rsa<5,>=3.1.4 in /Users/phanindrasai/miniforge3/lib/python3.10/site-packages (from google-auth<3,>=1.6.3->tensorboard<2.15,>=2.14->tensorflow-macos==2.14.0->tensorflow) (4.9)\n",
      "Requirement already satisfied: requests-oauthlib>=0.7.0 in /Users/phanindrasai/miniforge3/lib/python3.10/site-packages (from google-auth-oauthlib<1.1,>=0.5->tensorboard<2.15,>=2.14->tensorflow-macos==2.14.0->tensorflow) (1.3.1)\n",
      "Requirement already satisfied: MarkupSafe>=2.1.1 in /Users/phanindrasai/miniforge3/lib/python3.10/site-packages (from werkzeug>=1.0.1->tensorboard<2.15,>=2.14->tensorflow-macos==2.14.0->tensorflow) (2.1.3)\n",
      "Requirement already satisfied: pyasn1<0.6.0,>=0.4.6 in /Users/phanindrasai/miniforge3/lib/python3.10/site-packages (from pyasn1-modules>=0.2.1->google-auth<3,>=1.6.3->tensorboard<2.15,>=2.14->tensorflow-macos==2.14.0->tensorflow) (0.5.0)\n",
      "Requirement already satisfied: oauthlib>=3.0.0 in /Users/phanindrasai/miniforge3/lib/python3.10/site-packages (from requests-oauthlib>=0.7.0->google-auth-oauthlib<1.1,>=0.5->tensorboard<2.15,>=2.14->tensorflow-macos==2.14.0->tensorflow) (3.2.2)\n"
     ]
    }
   ],
   "source": [
    "!pip install opencv-python matplotlib imageio gdown tensorflow"
   ]
  },
  {
   "cell_type": "code",
   "execution_count": 3,
   "id": "b24af50c-20b8-409d-ad78-30a933fdd669",
   "metadata": {
    "tags": []
   },
   "outputs": [],
   "source": [
    "import os\n",
    "import cv2\n",
    "import tensorflow as tf\n",
    "import numpy as np\n",
    "from typing import List\n",
    "from matplotlib import pyplot as plt\n",
    "import imageio"
   ]
  },
  {
   "cell_type": "code",
   "execution_count": 4,
   "id": "1e3db0b0-e559-4ad6-91fd-e7414b7d75e6",
   "metadata": {},
   "outputs": [
    {
     "data": {
      "text/plain": [
       "[]"
      ]
     },
     "execution_count": 4,
     "metadata": {},
     "output_type": "execute_result"
    }
   ],
   "source": [
    "tf.config.list_physical_devices('GPU')"
   ]
  },
  {
   "cell_type": "code",
   "execution_count": 5,
   "id": "378d045a-3003-4f93-b7d2-a25a97774a68",
   "metadata": {
    "tags": []
   },
   "outputs": [],
   "source": [
    "physical_devices = tf.config.list_physical_devices('GPU')\n",
    "try:\n",
    "    tf.config.experimental.set_memory_growth(physical_devices[0], True)\n",
    "except:\n",
    "    pass"
   ]
  },
  {
   "attachments": {},
   "cell_type": "markdown",
   "id": "7a19e88e-c7b9-45c1-ae1e-f2109329c71b",
   "metadata": {
    "tags": []
   },
   "source": [
    "# 1. Build Data Loading Functions"
   ]
  },
  {
   "cell_type": "code",
   "execution_count": 6,
   "id": "8fb99c90-e05a-437f-839d-6e772f8c1dd5",
   "metadata": {
    "tags": []
   },
   "outputs": [],
   "source": [
    "import gdown"
   ]
  },
  {
   "cell_type": "code",
   "execution_count": 7,
   "id": "c019e4c6-2af3-4160-99ea-5c8cb009f1a7",
   "metadata": {
    "tags": []
   },
   "outputs": [],
   "source": [
    "# url = 'https://drive.google.com/uc?id=1YlvpDLix3S-U8fd-gqRwPcWXAXm8JwjL'\n",
    "# output = 'data.zip'\n",
    "# gdown.download(url, output, quiet=False)\n",
    "# gdown.extractall('data.zip')"
   ]
  },
  {
   "cell_type": "code",
   "execution_count": 8,
   "id": "8548cc59-6dfc-4acc-abc3-3e65212db02e",
   "metadata": {
    "tags": []
   },
   "outputs": [],
   "source": [
    "def load_video(path:str) -> List[float]: \n",
    "\n",
    "    cap = cv2.VideoCapture(path)\n",
    "    frames = []\n",
    "    for _ in range(int(cap.get(cv2.CAP_PROP_FRAME_COUNT))): \n",
    "        ret, frame = cap.read()\n",
    "        frame = tf.image.rgb_to_grayscale(frame)\n",
    "        frames.append(frame[190:236,80:220,:])\n",
    "    cap.release()\n",
    "    \n",
    "    mean = tf.math.reduce_mean(frames)\n",
    "    std = tf.math.reduce_std(tf.cast(frames, tf.float32))\n",
    "    return tf.cast((frames - mean), tf.float32) / std"
   ]
  },
  {
   "cell_type": "code",
   "execution_count": 9,
   "id": "ec735e0b-ec98-4eb0-8f49-c35527d6670a",
   "metadata": {
    "tags": []
   },
   "outputs": [],
   "source": [
    "vocab = [x for x in \"abcdefghijklmnopqrstuvwxyz'?!123456789 \"]"
   ]
  },
  {
   "cell_type": "code",
   "execution_count": 10,
   "id": "be04e972-d7a5-4a72-82d8-a6bdde1f3ce6",
   "metadata": {
    "tags": []
   },
   "outputs": [
    {
     "name": "stdout",
     "output_type": "stream",
     "text": [
      "The vocabulary is: ['', 'a', 'b', 'c', 'd', 'e', 'f', 'g', 'h', 'i', 'j', 'k', 'l', 'm', 'n', 'o', 'p', 'q', 'r', 's', 't', 'u', 'v', 'w', 'x', 'y', 'z', \"'\", '?', '!', '1', '2', '3', '4', '5', '6', '7', '8', '9', ' '] (size =40)\n"
     ]
    }
   ],
   "source": [
    "char_to_num = tf.keras.layers.StringLookup(vocabulary=vocab, oov_token=\"\")\n",
    "num_to_char = tf.keras.layers.StringLookup(\n",
    "    vocabulary=char_to_num.get_vocabulary(), oov_token=\"\", invert=True\n",
    ")\n",
    "\n",
    "print(\n",
    "    f\"The vocabulary is: {char_to_num.get_vocabulary()} \"\n",
    "    f\"(size ={char_to_num.vocabulary_size()})\"\n",
    ")"
   ]
  },
  {
   "cell_type": "code",
   "execution_count": 11,
   "id": "559f7420-6802-45fa-9ca0-b1ff209b461c",
   "metadata": {
    "tags": []
   },
   "outputs": [
    {
     "data": {
      "text/plain": [
       "['',\n",
       " 'a',\n",
       " 'b',\n",
       " 'c',\n",
       " 'd',\n",
       " 'e',\n",
       " 'f',\n",
       " 'g',\n",
       " 'h',\n",
       " 'i',\n",
       " 'j',\n",
       " 'k',\n",
       " 'l',\n",
       " 'm',\n",
       " 'n',\n",
       " 'o',\n",
       " 'p',\n",
       " 'q',\n",
       " 'r',\n",
       " 's',\n",
       " 't',\n",
       " 'u',\n",
       " 'v',\n",
       " 'w',\n",
       " 'x',\n",
       " 'y',\n",
       " 'z',\n",
       " \"'\",\n",
       " '?',\n",
       " '!',\n",
       " '1',\n",
       " '2',\n",
       " '3',\n",
       " '4',\n",
       " '5',\n",
       " '6',\n",
       " '7',\n",
       " '8',\n",
       " '9',\n",
       " ' ']"
      ]
     },
     "execution_count": 11,
     "metadata": {},
     "output_type": "execute_result"
    }
   ],
   "source": [
    "char_to_num.get_vocabulary()"
   ]
  },
  {
   "cell_type": "code",
   "execution_count": 12,
   "id": "797ff78b-b48f-4e14-bb62-8cd0ebf9501a",
   "metadata": {
    "tags": []
   },
   "outputs": [
    {
     "data": {
      "text/plain": [
       "<tf.Tensor: shape=(4,), dtype=int64, numpy=array([14,  9,  3, 11])>"
      ]
     },
     "execution_count": 12,
     "metadata": {},
     "output_type": "execute_result"
    }
   ],
   "source": [
    "char_to_num(['n','i','c','k'])"
   ]
  },
  {
   "cell_type": "code",
   "execution_count": 13,
   "id": "8cd7f4f4-ae77-4509-a4f4-c723787ebad1",
   "metadata": {},
   "outputs": [
    {
     "data": {
      "text/plain": [
       "<tf.Tensor: shape=(4,), dtype=string, numpy=array([b'n', b'i', b'c', b'k'], dtype=object)>"
      ]
     },
     "execution_count": 13,
     "metadata": {},
     "output_type": "execute_result"
    }
   ],
   "source": [
    "num_to_char([14,  9,  3, 11])"
   ]
  },
  {
   "cell_type": "code",
   "execution_count": 14,
   "id": "9491bab5-6a3c-4f79-879a-8f9fbe73ae2e",
   "metadata": {
    "tags": []
   },
   "outputs": [],
   "source": [
    "def load_alignments(path:str) -> List[str]: \n",
    "    with open(path, 'r') as f: \n",
    "        lines = f.readlines() \n",
    "    tokens = []\n",
    "    for line in lines:\n",
    "        line = line.split()\n",
    "        if line[2] != 'sil': \n",
    "            tokens = [*tokens,' ',line[2]]\n",
    "    return char_to_num(tf.reshape(tf.strings.unicode_split(tokens, input_encoding='UTF-8'), (-1)))[1:]"
   ]
  },
  {
   "cell_type": "code",
   "execution_count": 15,
   "id": "dd01ca9f-77fb-4643-a2aa-47dd82c5d66b",
   "metadata": {
    "tags": []
   },
   "outputs": [],
   "source": [
    "def load_data(path: str): \n",
    "    path = bytes.decode(path.numpy())\n",
    "    file_name = path.split('/')[-1].split('.')[0]\n",
    "    # File name splitting for windows\n",
    "    #file_name = path.split('\\\\')[-1].split('.')[0]\n",
    "    video_path = os.path.join('data','s1',f'{file_name}.mpg')\n",
    "    alignment_path = os.path.join('data','alignments','s1',f'{file_name}.align')\n",
    "    frames = load_video(video_path) \n",
    "    alignments = load_alignments(alignment_path)\n",
    "    \n",
    "    return frames, alignments"
   ]
  },
  {
   "cell_type": "code",
   "execution_count": 16,
   "id": "8cb7cc58-31ae-4904-a805-1177a82717d2",
   "metadata": {
    "tags": []
   },
   "outputs": [],
   "source": [
    "test_path = '.data/s1/bbal6n.mpg'"
   ]
  },
  {
   "cell_type": "code",
   "execution_count": 17,
   "id": "76aa964f-0c84-490d-897a-d00e3966e2c9",
   "metadata": {},
   "outputs": [
    {
     "data": {
      "text/plain": [
       "'bbal6n'"
      ]
     },
     "execution_count": 17,
     "metadata": {},
     "output_type": "execute_result"
    }
   ],
   "source": [
    "tf.convert_to_tensor(test_path).numpy().decode('utf-8').split('/')[-1].split('.')[0]"
   ]
  },
  {
   "cell_type": "code",
   "execution_count": 18,
   "id": "eb602c71-8560-4f9e-b26b-08202febb937",
   "metadata": {
    "scrolled": true,
    "tags": []
   },
   "outputs": [],
   "source": [
    "frames, alignments = load_data(tf.convert_to_tensor(test_path))"
   ]
  },
  {
   "cell_type": "code",
   "execution_count": 19,
   "id": "0e3184a1-6b02-4b4f-84a8-a0a65f951ea2",
   "metadata": {},
   "outputs": [
    {
     "data": {
      "text/plain": [
       "<matplotlib.image.AxesImage at 0x29355a170>"
      ]
     },
     "execution_count": 19,
     "metadata": {},
     "output_type": "execute_result"
    },
    {
     "data": {
      "image/png": "[encoded data removed]",
      "text/plain": [
       "<Figure size 640x480 with 1 Axes>"
      ]
     },
     "metadata": {},
     "output_type": "display_data"
    }
   ],
   "source": [
    "plt.imshow(frames[40])"
   ]
  },
  {
   "cell_type": "code",
   "execution_count": 20,
   "id": "d7ec0833-d54b-4073-84cf-92d011c60ec1",
   "metadata": {},
   "outputs": [
    {
     "data": {
      "text/plain": [
       "<tf.Tensor: shape=(21,), dtype=int64, numpy=\n",
       "array([ 2,  9, 14, 39,  2, 12, 21,  5, 39,  1, 20, 39, 12, 39, 19,  9, 24,\n",
       "       39, 14, 15, 23])>"
      ]
     },
     "execution_count": 20,
     "metadata": {},
     "output_type": "execute_result"
    }
   ],
   "source": [
    "alignments"
   ]
  },
  {
   "cell_type": "code",
   "execution_count": 21,
   "id": "fe1ad370-b287-4b46-85a2-7c45b0bd9b10",
   "metadata": {},
   "outputs": [
    {
     "data": {
      "text/plain": [
       "<tf.Tensor: shape=(), dtype=string, numpy=b'bin blue at l six now'>"
      ]
     },
     "execution_count": 21,
     "metadata": {},
     "output_type": "execute_result"
    }
   ],
   "source": [
    "tf.strings.reduce_join([bytes.decode(x) for x in num_to_char(alignments.numpy()).numpy()])"
   ]
  },
  {
   "cell_type": "code",
   "execution_count": 22,
   "id": "6871031a-b0ba-4c76-a852-f6329b0f2606",
   "metadata": {
    "tags": []
   },
   "outputs": [],
   "source": [
    "def mappable_function(path:str) ->List[str]:\n",
    "    result = tf.py_function(load_data, [path], (tf.float32, tf.int64))\n",
    "    return result"
   ]
  },
  {
   "attachments": {},
   "cell_type": "markdown",
   "id": "c40a7eb4-0c3e-4eab-9291-5611cb68ce08",
   "metadata": {
    "tags": []
   },
   "source": [
    "# 2. Create Data Pipeline"
   ]
  },
  {
   "cell_type": "code",
   "execution_count": 23,
   "id": "7686355d-45aa-4c85-ad9c-053e6a9b4d81",
   "metadata": {
    "tags": []
   },
   "outputs": [],
   "source": [
    "from matplotlib import pyplot as plt"
   ]
  },
  {
   "cell_type": "code",
   "execution_count": 24,
   "id": "f066fea2-91b1-42ed-a67d-00566a1a53ff",
   "metadata": {
    "tags": []
   },
   "outputs": [],
   "source": [
    "data = tf.data.Dataset.list_files('./data/s1/*.mpg')\n",
    "data = data.shuffle(500, reshuffle_each_iteration=False)\n",
    "data = data.map(mappable_function)\n",
    "data = data.padded_batch(2, padded_shapes=([75,None,None,None],[40]))\n",
    "data = data.prefetch(tf.data.AUTOTUNE)\n",
    "# Added for split \n",
    "train = data.take(450)\n",
    "test = data.skip(450)"
   ]
  },
  {
   "cell_type": "code",
   "execution_count": 25,
   "id": "5281bde8-fdc8-4da1-bd55-5a7929a9e80c",
   "metadata": {},
   "outputs": [],
   "source": [
    "frames, alignments = data.as_numpy_iterator().next()"
   ]
  },
  {
   "cell_type": "code",
   "execution_count": 26,
   "id": "cbebe683-6afd-47fd-bba4-c83b4b13bb32",
   "metadata": {},
   "outputs": [
    {
     "data": {
      "text/plain": [
       "2"
      ]
     },
     "execution_count": 26,
     "metadata": {},
     "output_type": "execute_result"
    }
   ],
   "source": [
    "len(frames)"
   ]
  },
  {
   "cell_type": "code",
   "execution_count": 27,
   "id": "5cf2d676-93a9-434c-b3c7-bdcc2577b2e7",
   "metadata": {
    "tags": []
   },
   "outputs": [],
   "source": [
    "sample = data.as_numpy_iterator()"
   ]
  },
  {
   "cell_type": "code",
   "execution_count": 28,
   "id": "efa6cd46-7079-46c0-b45b-832f339f6cb0",
   "metadata": {
    "scrolled": true,
    "tags": []
   },
   "outputs": [
    {
     "data": {
      "text/plain": [
       "array([[[[[1.4335093 ],\n",
       "          [1.4335093 ],\n",
       "          [1.4335093 ],\n",
       "          ...,\n",
       "          [0.11623049],\n",
       "          [0.07748699],\n",
       "          [0.07748699]],\n",
       "\n",
       "         [[1.4335093 ],\n",
       "          [1.4335093 ],\n",
       "          [1.4335093 ],\n",
       "          ...,\n",
       "          [0.11623049],\n",
       "          [0.07748699],\n",
       "          [0.07748699]],\n",
       "\n",
       "         [[1.4335093 ],\n",
       "          [1.4335093 ],\n",
       "          [1.4335093 ],\n",
       "          ...,\n",
       "          [0.11623049],\n",
       "          [0.07748699],\n",
       "          [0.07748699]],\n",
       "\n",
       "         ...,\n",
       "\n",
       "         [[1.0073309 ],\n",
       "          [1.0073309 ],\n",
       "          [1.0073309 ],\n",
       "          ...,\n",
       "          [9.724618  ],\n",
       "          [9.724618  ],\n",
       "          [9.724618  ]],\n",
       "\n",
       "         [[1.0073309 ],\n",
       "          [1.0073309 ],\n",
       "          [1.0073309 ],\n",
       "          ...,\n",
       "          [9.724618  ],\n",
       "          [9.724618  ],\n",
       "          [9.724618  ]],\n",
       "\n",
       "         [[1.0073309 ],\n",
       "          [1.0073309 ],\n",
       "          [1.0073309 ],\n",
       "          ...,\n",
       "          [9.724618  ],\n",
       "          [9.724618  ],\n",
       "          [9.724618  ]]],\n",
       "\n",
       "\n",
       "        [[[1.4335093 ],\n",
       "          [1.4335093 ],\n",
       "          [1.4335093 ],\n",
       "          ...,\n",
       "          [0.11623049],\n",
       "          [0.07748699],\n",
       "          [0.07748699]],\n",
       "\n",
       "         [[1.4335093 ],\n",
       "          [1.4335093 ],\n",
       "          [1.4335093 ],\n",
       "          ...,\n",
       "          [0.11623049],\n",
       "          [0.07748699],\n",
       "          [0.07748699]],\n",
       "\n",
       "         [[1.4335093 ],\n",
       "          [1.4335093 ],\n",
       "          [1.4335093 ],\n",
       "          ...,\n",
       "          [0.11623049],\n",
       "          [0.07748699],\n",
       "          [0.07748699]],\n",
       "\n",
       "         ...,\n",
       "\n",
       "         [[0.9298439 ],\n",
       "          [0.9298439 ],\n",
       "          [0.9298439 ],\n",
       "          ...,\n",
       "          [9.685874  ],\n",
       "          [9.685874  ],\n",
       "          [9.685874  ]],\n",
       "\n",
       "         [[0.9298439 ],\n",
       "          [0.9298439 ],\n",
       "          [0.9298439 ],\n",
       "          ...,\n",
       "          [9.685874  ],\n",
       "          [9.685874  ],\n",
       "          [9.685874  ]],\n",
       "\n",
       "         [[0.9298439 ],\n",
       "          [0.9298439 ],\n",
       "          [0.9298439 ],\n",
       "          ...,\n",
       "          [9.685874  ],\n",
       "          [9.685874  ],\n",
       "          [9.685874  ]]],\n",
       "\n",
       "\n",
       "        [[[1.4722528 ],\n",
       "          [1.4722528 ],\n",
       "          [1.4335093 ],\n",
       "          ...,\n",
       "          [0.15497398],\n",
       "          [0.07748699],\n",
       "          [0.07748699]],\n",
       "\n",
       "         [[1.4722528 ],\n",
       "          [1.4722528 ],\n",
       "          [1.4335093 ],\n",
       "          ...,\n",
       "          [0.15497398],\n",
       "          [0.07748699],\n",
       "          [0.07748699]],\n",
       "\n",
       "         [[1.3947659 ],\n",
       "          [1.3947659 ],\n",
       "          [1.3947659 ],\n",
       "          ...,\n",
       "          [0.11623049],\n",
       "          [0.07748699],\n",
       "          [0.07748699]],\n",
       "\n",
       "         ...,\n",
       "\n",
       "         [[1.0073309 ],\n",
       "          [0.9685874 ],\n",
       "          [0.9685874 ],\n",
       "          ...,\n",
       "          [9.724618  ],\n",
       "          [9.724618  ],\n",
       "          [9.724618  ]],\n",
       "\n",
       "         [[0.9685874 ],\n",
       "          [0.9685874 ],\n",
       "          [0.9685874 ],\n",
       "          ...,\n",
       "          [9.724618  ],\n",
       "          [9.724618  ],\n",
       "          [9.724618  ]],\n",
       "\n",
       "         [[0.9685874 ],\n",
       "          [0.9685874 ],\n",
       "          [0.9685874 ],\n",
       "          ...,\n",
       "          [9.724618  ],\n",
       "          [9.724618  ],\n",
       "          [9.724618  ]]],\n",
       "\n",
       "\n",
       "        ...,\n",
       "\n",
       "\n",
       "        [[[1.4722528 ],\n",
       "          [1.5497398 ],\n",
       "          [1.5884833 ],\n",
       "          ...,\n",
       "          [0.07748699],\n",
       "          [0.07748699],\n",
       "          [0.07748699]],\n",
       "\n",
       "         [[1.5109963 ],\n",
       "          [1.4722528 ],\n",
       "          [1.4335093 ],\n",
       "          ...,\n",
       "          [0.0387435 ],\n",
       "          [0.0387435 ],\n",
       "          [0.0387435 ]],\n",
       "\n",
       "         [[1.4722528 ],\n",
       "          [1.4722528 ],\n",
       "          [1.4722528 ],\n",
       "          ...,\n",
       "          [0.07748699],\n",
       "          [0.07748699],\n",
       "          [0.07748699]],\n",
       "\n",
       "         ...,\n",
       "\n",
       "         [[1.0073309 ],\n",
       "          [0.9685874 ],\n",
       "          [0.9685874 ],\n",
       "          ...,\n",
       "          [9.763361  ],\n",
       "          [9.763361  ],\n",
       "          [9.763361  ]],\n",
       "\n",
       "         [[1.0073309 ],\n",
       "          [0.9685874 ],\n",
       "          [0.9685874 ],\n",
       "          ...,\n",
       "          [9.763361  ],\n",
       "          [9.763361  ],\n",
       "          [9.763361  ]],\n",
       "\n",
       "         [[1.0073309 ],\n",
       "          [0.9685874 ],\n",
       "          [0.9685874 ],\n",
       "          ...,\n",
       "          [9.724618  ],\n",
       "          [9.724618  ],\n",
       "          [9.724618  ]]],\n",
       "\n",
       "\n",
       "        [[[1.3947659 ],\n",
       "          [1.4335093 ],\n",
       "          [1.5109963 ],\n",
       "          ...,\n",
       "          [0.07748699],\n",
       "          [0.07748699],\n",
       "          [0.07748699]],\n",
       "\n",
       "         [[1.4335093 ],\n",
       "          [1.3560224 ],\n",
       "          [1.4722528 ],\n",
       "          ...,\n",
       "          [0.0387435 ],\n",
       "          [0.0387435 ],\n",
       "          [0.0387435 ]],\n",
       "\n",
       "         [[1.4722528 ],\n",
       "          [1.4722528 ],\n",
       "          [1.4335093 ],\n",
       "          ...,\n",
       "          [0.07748699],\n",
       "          [0.07748699],\n",
       "          [0.07748699]],\n",
       "\n",
       "         ...,\n",
       "\n",
       "         [[1.0073309 ],\n",
       "          [0.9685874 ],\n",
       "          [0.9685874 ],\n",
       "          ...,\n",
       "          [9.763361  ],\n",
       "          [9.763361  ],\n",
       "          [9.763361  ]],\n",
       "\n",
       "         [[1.0073309 ],\n",
       "          [0.9685874 ],\n",
       "          [0.9685874 ],\n",
       "          ...,\n",
       "          [9.763361  ],\n",
       "          [9.763361  ],\n",
       "          [9.763361  ]],\n",
       "\n",
       "         [[1.0073309 ],\n",
       "          [0.9685874 ],\n",
       "          [0.9685874 ],\n",
       "          ...,\n",
       "          [9.724618  ],\n",
       "          [9.724618  ],\n",
       "          [9.724618  ]]],\n",
       "\n",
       "\n",
       "        [[[1.4335093 ],\n",
       "          [1.4722528 ],\n",
       "          [1.4722528 ],\n",
       "          ...,\n",
       "          [0.07748699],\n",
       "          [0.07748699],\n",
       "          [0.07748699]],\n",
       "\n",
       "         [[1.4722528 ],\n",
       "          [1.3947659 ],\n",
       "          [1.3947659 ],\n",
       "          ...,\n",
       "          [0.0387435 ],\n",
       "          [0.0387435 ],\n",
       "          [0.0387435 ]],\n",
       "\n",
       "         [[1.4722528 ],\n",
       "          [1.4722528 ],\n",
       "          [1.4335093 ],\n",
       "          ...,\n",
       "          [0.07748699],\n",
       "          [0.07748699],\n",
       "          [0.07748699]],\n",
       "\n",
       "         ...,\n",
       "\n",
       "         [[1.0460744 ],\n",
       "          [1.0073309 ],\n",
       "          [1.0073309 ],\n",
       "          ...,\n",
       "          [9.724618  ],\n",
       "          [9.724618  ],\n",
       "          [9.724618  ]],\n",
       "\n",
       "         [[1.0460744 ],\n",
       "          [1.0073309 ],\n",
       "          [1.0460744 ],\n",
       "          ...,\n",
       "          [9.724618  ],\n",
       "          [9.724618  ],\n",
       "          [9.724618  ]],\n",
       "\n",
       "         [[1.0460744 ],\n",
       "          [1.0073309 ],\n",
       "          [1.0460744 ],\n",
       "          ...,\n",
       "          [9.685874  ],\n",
       "          [9.685874  ],\n",
       "          [9.685874  ]]]],\n",
       "\n",
       "\n",
       "\n",
       "       [[[[1.2532911 ],\n",
       "          [1.2532911 ],\n",
       "          [1.2532911 ],\n",
       "          ...,\n",
       "          [0.45574224],\n",
       "          [0.5316993 ],\n",
       "          [0.5696778 ]],\n",
       "\n",
       "         [[1.2532911 ],\n",
       "          [1.2532911 ],\n",
       "          [1.2532911 ],\n",
       "          ...,\n",
       "          [0.45574224],\n",
       "          [0.5316993 ],\n",
       "          [0.5696778 ]],\n",
       "\n",
       "         [[1.1393557 ],\n",
       "          [1.1393557 ],\n",
       "          [1.1393557 ],\n",
       "          ...,\n",
       "          [0.5316993 ],\n",
       "          [0.49372077],\n",
       "          [0.7595704 ]],\n",
       "\n",
       "         ...,\n",
       "\n",
       "         [[0.87350595],\n",
       "          [0.8355274 ],\n",
       "          [0.8355274 ],\n",
       "          ...,\n",
       "          [8.279317  ],\n",
       "          [8.393253  ],\n",
       "          [8.507189  ]],\n",
       "\n",
       "         [[0.8355274 ],\n",
       "          [0.8355274 ],\n",
       "          [0.8355274 ],\n",
       "          ...,\n",
       "          [8.545167  ],\n",
       "          [8.203361  ],\n",
       "          [8.811017  ]],\n",
       "\n",
       "         [[0.8355274 ],\n",
       "          [0.8355274 ],\n",
       "          [0.8355274 ],\n",
       "          ...,\n",
       "          [9.038888  ],\n",
       "          [7.671661  ],\n",
       "          [8.4312315 ]]],\n",
       "\n",
       "\n",
       "        [[[1.2532911 ],\n",
       "          [1.2532911 ],\n",
       "          [1.2532911 ],\n",
       "          ...,\n",
       "          [0.45574224],\n",
       "          [0.5316993 ],\n",
       "          [0.5696778 ]],\n",
       "\n",
       "         [[1.2153126 ],\n",
       "          [1.2153126 ],\n",
       "          [1.2153126 ],\n",
       "          ...,\n",
       "          [0.49372077],\n",
       "          [0.5696778 ],\n",
       "          [0.64563483]],\n",
       "\n",
       "         [[1.1393557 ],\n",
       "          [1.1393557 ],\n",
       "          [1.1393557 ],\n",
       "          ...,\n",
       "          [0.34180668],\n",
       "          [0.5316993 ],\n",
       "          [0.68361336]],\n",
       "\n",
       "         ...,\n",
       "\n",
       "         [[0.87350595],\n",
       "          [0.87350595],\n",
       "          [0.8355274 ],\n",
       "          ...,\n",
       "          [8.241339  ],\n",
       "          [8.393253  ],\n",
       "          [8.46921   ]],\n",
       "\n",
       "         [[0.8355274 ],\n",
       "          [0.79754895],\n",
       "          [0.79754895],\n",
       "          ...,\n",
       "          [8.46921   ],\n",
       "          [7.975489  ],\n",
       "          [8.659102  ]],\n",
       "\n",
       "         [[0.79754895],\n",
       "          [0.79754895],\n",
       "          [0.79754895],\n",
       "          ...,\n",
       "          [9.000909  ],\n",
       "          [7.3678327 ],\n",
       "          [8.279317  ]]],\n",
       "\n",
       "\n",
       "        [[[1.2153126 ],\n",
       "          [1.2153126 ],\n",
       "          [1.2153126 ],\n",
       "          ...,\n",
       "          [0.45574224],\n",
       "          [0.5696778 ],\n",
       "          [0.6076563 ]],\n",
       "\n",
       "         [[1.1773341 ],\n",
       "          [1.1773341 ],\n",
       "          [1.1773341 ],\n",
       "          ...,\n",
       "          [0.3797852 ],\n",
       "          [0.5316993 ],\n",
       "          [0.6076563 ]],\n",
       "\n",
       "         [[1.1393557 ],\n",
       "          [1.1393557 ],\n",
       "          [1.1393557 ],\n",
       "          ...,\n",
       "          [0.3797852 ],\n",
       "          [0.68361336],\n",
       "          [0.79754895]],\n",
       "\n",
       "         ...,\n",
       "\n",
       "         [[0.8355274 ],\n",
       "          [0.8355274 ],\n",
       "          [0.79754895],\n",
       "          ...,\n",
       "          [8.089425  ],\n",
       "          [8.317296  ],\n",
       "          [8.507189  ]],\n",
       "\n",
       "         [[0.8355274 ],\n",
       "          [0.79754895],\n",
       "          [0.79754895],\n",
       "          ...,\n",
       "          [8.317296  ],\n",
       "          [7.975489  ],\n",
       "          [8.697081  ]],\n",
       "\n",
       "         [[0.79754895],\n",
       "          [0.79754895],\n",
       "          [0.79754895],\n",
       "          ...,\n",
       "          [8.886973  ],\n",
       "          [7.4058113 ],\n",
       "          [8.241339  ]]],\n",
       "\n",
       "\n",
       "        ...,\n",
       "\n",
       "\n",
       "        [[[1.2532911 ],\n",
       "          [1.2532911 ],\n",
       "          [1.2532911 ],\n",
       "          ...,\n",
       "          [0.45574224],\n",
       "          [0.5696778 ],\n",
       "          [0.49372077]],\n",
       "\n",
       "         [[1.2532911 ],\n",
       "          [1.2532911 ],\n",
       "          [1.2532911 ],\n",
       "          ...,\n",
       "          [0.45574224],\n",
       "          [0.5696778 ],\n",
       "          [0.49372077]],\n",
       "\n",
       "         [[1.1013771 ],\n",
       "          [1.1013771 ],\n",
       "          [1.1013771 ],\n",
       "          ...,\n",
       "          [0.30382815],\n",
       "          [0.7595704 ],\n",
       "          [0.4177637 ]],\n",
       "\n",
       "         ...,\n",
       "\n",
       "         [[0.79754895],\n",
       "          [0.79754895],\n",
       "          [0.79754895],\n",
       "          ...,\n",
       "          [9.000909  ],\n",
       "          [8.013468  ],\n",
       "          [8.621124  ]],\n",
       "\n",
       "         [[0.79754895],\n",
       "          [0.79754895],\n",
       "          [0.79754895],\n",
       "          ...,\n",
       "          [9.646544  ],\n",
       "          [7.747618  ],\n",
       "          [8.355274  ]],\n",
       "\n",
       "         [[0.79754895],\n",
       "          [0.79754895],\n",
       "          [0.7595704 ],\n",
       "          ...,\n",
       "          [0.5696778 ],\n",
       "          [7.823575  ],\n",
       "          [7.6336827 ]]],\n",
       "\n",
       "\n",
       "        [[[1.2532911 ],\n",
       "          [1.2532911 ],\n",
       "          [1.2532911 ],\n",
       "          ...,\n",
       "          [0.34180668],\n",
       "          [0.5316993 ],\n",
       "          [0.49372077]],\n",
       "\n",
       "         [[1.2532911 ],\n",
       "          [1.2532911 ],\n",
       "          [1.2532911 ],\n",
       "          ...,\n",
       "          [0.34180668],\n",
       "          [0.5316993 ],\n",
       "          [0.49372077]],\n",
       "\n",
       "         [[1.1013771 ],\n",
       "          [1.1013771 ],\n",
       "          [1.1013771 ],\n",
       "          ...,\n",
       "          [0.30382815],\n",
       "          [0.8355274 ],\n",
       "          [0.49372077]],\n",
       "\n",
       "         ...,\n",
       "\n",
       "         [[0.7595704 ],\n",
       "          [0.7595704 ],\n",
       "          [0.79754895],\n",
       "          ...,\n",
       "          [9.190802  ],\n",
       "          [7.975489  ],\n",
       "          [8.4312315 ]],\n",
       "\n",
       "         [[0.7595704 ],\n",
       "          [0.7595704 ],\n",
       "          [0.79754895],\n",
       "          ...,\n",
       "          [0.03797852],\n",
       "          [7.6336827 ],\n",
       "          [8.203361  ]],\n",
       "\n",
       "         [[0.7595704 ],\n",
       "          [0.7595704 ],\n",
       "          [0.79754895],\n",
       "          ...,\n",
       "          [0.5696778 ],\n",
       "          [7.8995323 ],\n",
       "          [7.595704  ]]],\n",
       "\n",
       "\n",
       "        [[[1.2532911 ],\n",
       "          [1.2532911 ],\n",
       "          [1.2532911 ],\n",
       "          ...,\n",
       "          [0.3797852 ],\n",
       "          [0.5696778 ],\n",
       "          [0.5316993 ]],\n",
       "\n",
       "         [[1.2532911 ],\n",
       "          [1.2532911 ],\n",
       "          [1.2532911 ],\n",
       "          ...,\n",
       "          [0.34180668],\n",
       "          [0.5316993 ],\n",
       "          [0.5316993 ]],\n",
       "\n",
       "         [[1.1393557 ],\n",
       "          [1.1393557 ],\n",
       "          [1.1393557 ],\n",
       "          ...,\n",
       "          [0.34180668],\n",
       "          [0.87350595],\n",
       "          [0.5696778 ]],\n",
       "\n",
       "         ...,\n",
       "\n",
       "         [[0.7595704 ],\n",
       "          [0.7595704 ],\n",
       "          [0.79754895],\n",
       "          ...,\n",
       "          [9.418673  ],\n",
       "          [8.013468  ],\n",
       "          [8.393253  ]],\n",
       "\n",
       "         [[0.7595704 ],\n",
       "          [0.7595704 ],\n",
       "          [0.79754895],\n",
       "          ...,\n",
       "          [0.30382815],\n",
       "          [7.671661  ],\n",
       "          [8.203361  ]],\n",
       "\n",
       "         [[0.7595704 ],\n",
       "          [0.7595704 ],\n",
       "          [0.79754895],\n",
       "          ...,\n",
       "          [0.87350595],\n",
       "          [7.975489  ],\n",
       "          [7.5577254 ]]]]], dtype=float32)"
      ]
     },
     "execution_count": 28,
     "metadata": {},
     "output_type": "execute_result"
    }
   ],
   "source": [
    "val = sample.next(); val[0]"
   ]
  },
  {
   "cell_type": "code",
   "execution_count": 29,
   "id": "acf5eb4f-a0da-4a9a-bf24-af13e9cc2fbe",
   "metadata": {
    "tags": []
   },
   "outputs": [],
   "source": [
    "import imageio\n",
    "import numpy as np\n",
    "\n",
    "# Assuming val[0][0] is a sequence of frames\n",
    "\n",
    "# Reshape the frames if necessary\n",
    "frames = np.squeeze(val[0][0])\n",
    "\n",
    "# Normalize the frames to the range [0, 255]\n",
    "frames_normalized = (frames - np.min(frames)) / (np.max(frames) - np.min(frames))\n",
    "frames_uint8 = (frames_normalized * 255).astype(np.uint8)\n",
    "\n",
    "# Save animation as GIF with a frame duration of 100 milliseconds (10 frames per second)\n",
    "imageio.mimsave('./animation.gif', frames_uint8, duration=100)\n"
   ]
  },
  {
   "cell_type": "code",
   "execution_count": 30,
   "id": "c33a87a2-d5e0-4ec9-b174-73ebf41bf03a",
   "metadata": {
    "tags": []
   },
   "outputs": [
    {
     "data": {
      "text/plain": [
       "<matplotlib.image.AxesImage at 0x2946b7b80>"
      ]
     },
     "execution_count": 30,
     "metadata": {},
     "output_type": "execute_result"
    },
    {
     "data": {
      "image/png": "[encoded data removed]",
      "text/plain": [
       "<Figure size 640x480 with 1 Axes>"
      ]
     },
     "metadata": {},
     "output_type": "display_data"
    }
   ],
   "source": [
    "# 0:videos, 0: 1st video out of the batch,  0: return the first frame in the video \n",
    "plt.imshow(val[0][0][35])"
   ]
  },
  {
   "cell_type": "code",
   "execution_count": 31,
   "id": "84593332-133c-4205-b7a6-8e235d5e2b3b",
   "metadata": {
    "tags": []
   },
   "outputs": [
    {
     "data": {
      "text/plain": [
       "<tf.Tensor: shape=(), dtype=string, numpy=b'set red in a six now'>"
      ]
     },
     "execution_count": 31,
     "metadata": {},
     "output_type": "execute_result"
    }
   ],
   "source": [
    "tf.strings.reduce_join([num_to_char(word) for word in val[1][0]])"
   ]
  },
  {
   "attachments": {},
   "cell_type": "markdown",
   "id": "0f47733c-83bc-465c-b118-b198b492ad37",
   "metadata": {
    "tags": []
   },
   "source": [
    "# 3. Design the Deep Neural Network"
   ]
  },
  {
   "cell_type": "code",
   "execution_count": 32,
   "id": "d8e9a497-191b-4842-afbd-26f5e13c43ba",
   "metadata": {
    "tags": []
   },
   "outputs": [],
   "source": [
    "from tensorflow.keras.models import Sequential \n",
    "from tensorflow.keras.layers import Conv3D, LSTM, Dense, Dropout, Bidirectional, MaxPool3D, Activation, Reshape, SpatialDropout3D, BatchNormalization, TimeDistributed, Flatten\n",
    "from tensorflow.keras.optimizers import Adam\n",
    "from tensorflow.keras.callbacks import ModelCheckpoint, LearningRateScheduler"
   ]
  },
  {
   "cell_type": "code",
   "execution_count": 33,
   "id": "3f753ed2-70b9-4236-8c1c-08ca065dc8bf",
   "metadata": {},
   "outputs": [
    {
     "data": {
      "text/plain": [
       "(75, 46, 140, 1)"
      ]
     },
     "execution_count": 33,
     "metadata": {},
     "output_type": "execute_result"
    }
   ],
   "source": [
    "data.as_numpy_iterator().next()[0][0].shape"
   ]
  },
  {
   "cell_type": "code",
   "execution_count": 34,
   "id": "f9171056-a352-491a-9ed9-92b28ced268e",
   "metadata": {
    "tags": []
   },
   "outputs": [],
   "source": [
    "model = Sequential()\n",
    "model.add(Conv3D(128, 3, input_shape=(75,46,140,1), padding='same'))\n",
    "model.add(Activation('relu'))\n",
    "model.add(MaxPool3D((1,2,2)))\n",
    "\n",
    "model.add(Conv3D(256, 3, padding='same'))\n",
    "model.add(Activation('relu'))\n",
    "model.add(MaxPool3D((1,2,2)))\n",
    "\n",
    "model.add(Conv3D(75, 3, padding='same'))\n",
    "model.add(Activation('relu'))\n",
    "model.add(MaxPool3D((1,2,2)))\n",
    "\n",
    "model.add(TimeDistributed(Flatten()))\n",
    "\n",
    "model.add(Bidirectional(LSTM(128, kernel_initializer='Orthogonal', return_sequences=True)))\n",
    "model.add(Dropout(.5))\n",
    "\n",
    "model.add(Bidirectional(LSTM(128, kernel_initializer='Orthogonal', return_sequences=True)))\n",
    "model.add(Dropout(.5))\n",
    "\n",
    "model.add(Dense(char_to_num.vocabulary_size()+1, kernel_initializer='he_normal', activation='softmax'))"
   ]
  },
  {
   "cell_type": "code",
   "execution_count": 35,
   "id": "78851825-2bcd-42a9-b7f2-28bb5a6bf43a",
   "metadata": {
    "collapsed": true,
    "jupyter": {
     "outputs_hidden": true
    },
    "tags": []
   },
   "outputs": [
    {
     "name": "stdout",
     "output_type": "stream",
     "text": [
      "Model: \"sequential\"\n",
      "_________________________________________________________________\n",
      " Layer (type)                Output Shape              Param #   \n",
      "=================================================================\n",
      " conv3d (Conv3D)             (None, 75, 46, 140, 128   3584      \n",
      "                             )                                   \n",
      "                                                                 \n",
      " activation (Activation)     (None, 75, 46, 140, 128   0         \n",
      "                             )                                   \n",
      "                                                                 \n",
      " max_pooling3d (MaxPooling3  (None, 75, 23, 70, 128)   0         \n",
      " D)                                                              \n",
      "                                                                 \n",
      " conv3d_1 (Conv3D)           (None, 75, 23, 70, 256)   884992    \n",
      "                                                                 \n",
      " activation_1 (Activation)   (None, 75, 23, 70, 256)   0         \n",
      "                                                                 \n",
      " max_pooling3d_1 (MaxPoolin  (None, 75, 11, 35, 256)   0         \n",
      " g3D)                                                            \n",
      "                                                                 \n",
      " conv3d_2 (Conv3D)           (None, 75, 11, 35, 75)    518475    \n",
      "                                                                 \n",
      " activation_2 (Activation)   (None, 75, 11, 35, 75)    0         \n",
      "                                                                 \n",
      " max_pooling3d_2 (MaxPoolin  (None, 75, 5, 17, 75)     0         \n",
      " g3D)                                                            \n",
      "                                                                 \n",
      " time_distributed (TimeDist  (None, 75, 6375)          0         \n",
      " ributed)                                                        \n",
      "                                                                 \n",
      " bidirectional (Bidirection  (None, 75, 256)           6660096   \n",
      " al)                                                             \n",
      "                                                                 \n",
      " dropout (Dropout)           (None, 75, 256)           0         \n",
      "                                                                 \n",
      " bidirectional_1 (Bidirecti  (None, 75, 256)           394240    \n",
      " onal)                                                           \n",
      "                                                                 \n",
      " dropout_1 (Dropout)         (None, 75, 256)           0         \n",
      "                                                                 \n",
      " dense (Dense)               (None, 75, 41)            10537     \n",
      "                                                                 \n",
      "=================================================================\n",
      "Total params: 8471924 (32.32 MB)\n",
      "Trainable params: 8471924 (32.32 MB)\n",
      "Non-trainable params: 0 (0.00 Byte)\n",
      "_________________________________________________________________\n"
     ]
    }
   ],
   "source": [
    "model.summary()"
   ]
  },
  {
   "cell_type": "code",
   "execution_count": 36,
   "id": "f4b4798c-a65a-4c47-9e2a-3b09dc98d320",
   "metadata": {},
   "outputs": [
    {
     "data": {
      "text/plain": [
       "6375"
      ]
     },
     "execution_count": 36,
     "metadata": {},
     "output_type": "execute_result"
    }
   ],
   "source": [
    "5*17*75"
   ]
  },
  {
   "cell_type": "code",
   "execution_count": 37,
   "id": "e5c2eae0-c359-41a4-97a0-75c44dccb7d1",
   "metadata": {
    "tags": []
   },
   "outputs": [
    {
     "name": "stdout",
     "output_type": "stream",
     "text": [
      "1/1 [==============================] - 2s 2s/step\n"
     ]
    }
   ],
   "source": [
    "yhat = model.predict(val[0])"
   ]
  },
  {
   "cell_type": "code",
   "execution_count": 38,
   "id": "ffdc7319-0d69-4f7e-a6d4-ce72deb81c0b",
   "metadata": {},
   "outputs": [
    {
     "data": {
      "text/plain": [
       "<tf.Tensor: shape=(), dtype=string, numpy=b'ffffooooooooooooooooooooooooooooooooooooooooooooooooooooooooooooooooooooooo'>"
      ]
     },
     "execution_count": 38,
     "metadata": {},
     "output_type": "execute_result"
    }
   ],
   "source": [
    "tf.strings.reduce_join([num_to_char(x) for x in tf.argmax(yhat[0],axis=1)])"
   ]
  },
  {
   "cell_type": "code",
   "execution_count": 39,
   "id": "6ed47531-8317-4255-9a12-b757642258e6",
   "metadata": {
    "tags": []
   },
   "outputs": [
    {
     "data": {
      "text/plain": [
       "<tf.Tensor: shape=(), dtype=string, numpy=b'ffffooooooooooooooooooooooooooooooooooooooooooooooooooooooooooooooooooooooo'>"
      ]
     },
     "execution_count": 39,
     "metadata": {},
     "output_type": "execute_result"
    }
   ],
   "source": [
    "tf.strings.reduce_join([num_to_char(tf.argmax(x)) for x in yhat[0]])"
   ]
  },
  {
   "cell_type": "code",
   "execution_count": 40,
   "id": "7c37b9b9-5298-4038-9c33-5031d1b457f0",
   "metadata": {
    "tags": []
   },
   "outputs": [
    {
     "data": {
      "text/plain": [
       "(None, 75, 46, 140, 1)"
      ]
     },
     "execution_count": 40,
     "metadata": {},
     "output_type": "execute_result"
    }
   ],
   "source": [
    "model.input_shape"
   ]
  },
  {
   "cell_type": "code",
   "execution_count": 41,
   "id": "98b316a4-5322-4782-8e36-4b3c1a696d85",
   "metadata": {
    "tags": []
   },
   "outputs": [
    {
     "data": {
      "text/plain": [
       "(None, 75, 41)"
      ]
     },
     "execution_count": 41,
     "metadata": {},
     "output_type": "execute_result"
    }
   ],
   "source": [
    "model.output_shape"
   ]
  },
  {
   "attachments": {},
   "cell_type": "markdown",
   "id": "2ec02176-5c26-46c3-aff7-8352e6563c7d",
   "metadata": {
    "tags": []
   },
   "source": [
    "# 4. Setup Training Options and Train"
   ]
  },
  {
   "cell_type": "code",
   "execution_count": 42,
   "id": "ab015fd0-7fb4-4d5d-9fa2-30a05dbd515a",
   "metadata": {
    "tags": []
   },
   "outputs": [],
   "source": [
    "def scheduler(epoch, lr):\n",
    "    if epoch < 30:\n",
    "        return lr\n",
    "    else:\n",
    "        return lr * tf.math.exp(-0.1)"
   ]
  },
  {
   "cell_type": "code",
   "execution_count": 43,
   "id": "c564d5c9-db54-4e88-b311-9aeab7fb3e69",
   "metadata": {
    "tags": []
   },
   "outputs": [],
   "source": [
    "def CTCLoss(y_true, y_pred):\n",
    "    batch_len = tf.cast(tf.shape(y_true)[0], dtype=\"int64\")\n",
    "    input_length = tf.cast(tf.shape(y_pred)[1], dtype=\"int64\")\n",
    "    label_length = tf.cast(tf.shape(y_true)[1], dtype=\"int64\")\n",
    "\n",
    "    input_length = input_length * tf.ones(shape=(batch_len, 1), dtype=\"int64\")\n",
    "    label_length = label_length * tf.ones(shape=(batch_len, 1), dtype=\"int64\")\n",
    "\n",
    "    loss = tf.keras.backend.ctc_batch_cost(y_true, y_pred, input_length, label_length)\n",
    "    return loss"
   ]
  },
  {
   "cell_type": "code",
   "execution_count": 44,
   "id": "a26dc3fc-a19c-4378-bd8c-e2b597a1d15c",
   "metadata": {
    "tags": []
   },
   "outputs": [],
   "source": [
    "class ProduceExample(tf.keras.callbacks.Callback): \n",
    "    def __init__(self, dataset) -> None: \n",
    "        self.dataset = dataset.as_numpy_iterator()\n",
    "    \n",
    "    def on_epoch_end(self, epoch, logs=None) -> None:\n",
    "        data = self.dataset.next()\n",
    "        yhat = self.model.predict(data[0])\n",
    "        decoded = tf.keras.backend.ctc_decode(yhat, [75,75], greedy=False)[0][0].numpy()\n",
    "        for x in range(len(yhat)):           \n",
    "            print('Original:', tf.strings.reduce_join(num_to_char(data[1][x])).numpy().decode('utf-8'))\n",
    "            print('Prediction:', tf.strings.reduce_join(num_to_char(decoded[x])).numpy().decode('utf-8'))\n",
    "            print('~'*100)"
   ]
  },
  {
   "cell_type": "code",
   "execution_count": 45,
   "id": "04be90d8-2482-46f9-b513-d5f4f8001c7e",
   "metadata": {
    "tags": []
   },
   "outputs": [],
   "source": [
    "model.compile(optimizer=tf.keras.optimizers.legacy.Adam(learning_rate=0.0001), loss=CTCLoss)"
   ]
  },
  {
   "cell_type": "code",
   "execution_count": 46,
   "id": "eab49367-3f1e-4464-ae76-dbd07549d97e",
   "metadata": {
    "tags": []
   },
   "outputs": [],
   "source": [
    "checkpoint_callback = ModelCheckpoint(os.path.join('models','checkpoint'), monitor='loss', save_weights_only=True) "
   ]
  },
  {
   "cell_type": "code",
   "execution_count": 47,
   "id": "e085a632-d464-46ef-8777-959cad4adb2c",
   "metadata": {
    "tags": []
   },
   "outputs": [],
   "source": [
    "schedule_callback = LearningRateScheduler(scheduler)"
   ]
  },
  {
   "cell_type": "code",
   "execution_count": 48,
   "id": "48eca991-90ab-4592-8a79-b50e9ca015b6",
   "metadata": {
    "tags": []
   },
   "outputs": [],
   "source": [
    "example_callback = ProduceExample(test)"
   ]
  },
  {
   "cell_type": "code",
   "execution_count": 49,
   "id": "8ffba483-aa61-4bbe-a15f-a73e1ddf097c",
   "metadata": {
    "tags": []
   },
   "outputs": [],
   "source": [
    "# model.fit(train, validation_data=test, epochs=100, callbacks=[checkpoint_callback, schedule_callback, example_callback])"
   ]
  },
  {
   "attachments": {},
   "cell_type": "markdown",
   "id": "fa8ee94b-89f7-4733-8a0c-a86f86ff590a",
   "metadata": {
    "tags": []
   },
   "source": [
    "# 5. Make a Prediction "
   ]
  },
  {
   "cell_type": "code",
   "execution_count": 50,
   "id": "01fa7204-ce0e-49a8-8dbd-14fe5dfead40",
   "metadata": {
    "tags": []
   },
   "outputs": [],
   "source": [
    "# url = 'https://drive.google.com/uc?id=1vWscXs4Vt0a_1IH1-ct2TCgXAZT-N3_Y'\n",
    "# output = 'checkpoints.zip'\n",
    "# gdown.download(url, output, quiet=False)\n",
    "# gdown.extractall('checkpoints.zip', 'models')"
   ]
  },
  {
   "cell_type": "code",
   "execution_count": 51,
   "id": "247f664d-3c87-4e96-946e-930dad0e1c2c",
   "metadata": {
    "tags": []
   },
   "outputs": [
    {
     "data": {
      "text/plain": [
       "<tensorflow.python.checkpoint.checkpoint.CheckpointLoadStatus at 0x29523bd00>"
      ]
     },
     "execution_count": 51,
     "metadata": {},
     "output_type": "execute_result"
    }
   ],
   "source": [
    "model.load_weights('models/checkpoint')"
   ]
  },
  {
   "cell_type": "code",
   "execution_count": 52,
   "id": "7f8d689f-b7bb-443c-9b88-e40c1d800828",
   "metadata": {
    "tags": []
   },
   "outputs": [],
   "source": [
    "test_data = test.as_numpy_iterator()"
   ]
  },
  {
   "cell_type": "code",
   "execution_count": 53,
   "id": "38546dc2-bee9-4837-864b-8a884df40ad7",
   "metadata": {
    "tags": []
   },
   "outputs": [
    {
     "name": "stderr",
     "output_type": "stream",
     "text": [
      "[mpeg1video @ 0x116e59920] ac-tex damaged at 22 17\n",
      "[mpeg1video @ 0x116e59920] Warning MVs not available\n"
     ]
    }
   ],
   "source": [
    "sample = test_data.next()"
   ]
  },
  {
   "cell_type": "code",
   "execution_count": 54,
   "id": "a43621f0-229d-4c0d-9554-9c3a3da9c61a",
   "metadata": {
    "tags": []
   },
   "outputs": [
    {
     "name": "stdout",
     "output_type": "stream",
     "text": [
      "1/1 [==============================] - 2s 2s/step\n"
     ]
    }
   ],
   "source": [
    "yhat = model.predict(sample[0])"
   ]
  },
  {
   "cell_type": "code",
   "execution_count": 55,
   "id": "ea462999-f87e-4a7e-a057-5be7b6d8f7d5",
   "metadata": {
    "tags": []
   },
   "outputs": [
    {
     "name": "stdout",
     "output_type": "stream",
     "text": [
      "~~~~~~~~~~~~~~~~~~~~~~~~~~~~~~~~~~~~~~~~~~~~~~~~~~~~~~~~~~~~~~~~~~~~~~~~~~~~~~~~~~~~~~~~~~~~~~~~~~~~ REAL TEXT\n"
     ]
    },
    {
     "data": {
      "text/plain": [
       "[<tf.Tensor: shape=(), dtype=string, numpy=b'place green with l two please'>,\n",
       " <tf.Tensor: shape=(), dtype=string, numpy=b'place blue by c four now'>]"
      ]
     },
     "execution_count": 55,
     "metadata": {},
     "output_type": "execute_result"
    }
   ],
   "source": [
    "print('~'*100, 'REAL TEXT')\n",
    "[tf.strings.reduce_join([num_to_char(word) for word in sentence]) for sentence in sample[1]]"
   ]
  },
  {
   "cell_type": "code",
   "execution_count": 56,
   "id": "82bd4c10-dd6e-411e-834b-2a3b43fd12c5",
   "metadata": {
    "tags": []
   },
   "outputs": [],
   "source": [
    "decoded = tf.keras.backend.ctc_decode(yhat, input_length=[75,75], greedy=True)[0][0].numpy()"
   ]
  },
  {
   "cell_type": "code",
   "execution_count": 57,
   "id": "5d68ac46-c90b-4eab-a709-f19aee569ff5",
   "metadata": {
    "tags": []
   },
   "outputs": [
    {
     "name": "stdout",
     "output_type": "stream",
     "text": [
      "~~~~~~~~~~~~~~~~~~~~~~~~~~~~~~~~~~~~~~~~~~~~~~~~~~~~~~~~~~~~~~~~~~~~~~~~~~~~~~~~~~~~~~~~~~~~~~~~~~~~ PREDICTIONS\n"
     ]
    },
    {
     "data": {
      "text/plain": [
       "[<tf.Tensor: shape=(), dtype=string, numpy=b'place green with l two please'>,\n",
       " <tf.Tensor: shape=(), dtype=string, numpy=b'place blue by c four now'>]"
      ]
     },
     "execution_count": 57,
     "metadata": {},
     "output_type": "execute_result"
    }
   ],
   "source": [
    "print('~'*100, 'PREDICTIONS')\n",
    "[tf.strings.reduce_join([num_to_char(word) for word in sentence]) for sentence in decoded]"
   ]
  },
  {
   "cell_type": "code",
   "execution_count": null,
   "id": "469f7569",
   "metadata": {},
   "outputs": [],
   "source": []
  },
  {
   "attachments": {},
   "cell_type": "markdown",
   "id": "64622f98-e99b-4fed-a2cc-f0da82eb5431",
   "metadata": {},
   "source": [
    "# Test on a Video"
   ]
  },
  {
   "cell_type": "code",
   "execution_count": 58,
   "id": "a8b0c4d0-2031-4331-b91d-d87b1ae6f6e2",
   "metadata": {},
   "outputs": [],
   "source": [
    "sample = load_data(tf.convert_to_tensor('./data/s1/bras9a.mpg'))"
   ]
  },
  {
   "cell_type": "code",
   "execution_count": 59,
   "id": "0cca60e4-47a9-4683-8a75-48f4684f723d",
   "metadata": {},
   "outputs": [
    {
     "name": "stdout",
     "output_type": "stream",
     "text": [
      "~~~~~~~~~~~~~~~~~~~~~~~~~~~~~~~~~~~~~~~~~~~~~~~~~~~~~~~~~~~~~~~~~~~~~~~~~~~~~~~~~~~~~~~~~~~~~~~~~~~~ REAL TEXT\n"
     ]
    },
    {
     "data": {
      "text/plain": [
       "[<tf.Tensor: shape=(), dtype=string, numpy=b'bin red at s nine again'>]"
      ]
     },
     "execution_count": 59,
     "metadata": {},
     "output_type": "execute_result"
    }
   ],
   "source": [
    "print('~'*100, 'REAL TEXT')\n",
    "[tf.strings.reduce_join([num_to_char(word) for word in sentence]) for sentence in [sample[1]]]"
   ]
  },
  {
   "cell_type": "code",
   "execution_count": 60,
   "id": "8cc5037c-1e32-435c-b0cc-01e1fb3b863c",
   "metadata": {},
   "outputs": [
    {
     "name": "stdout",
     "output_type": "stream",
     "text": [
      "1/1 [==============================] - 1s 819ms/step\n"
     ]
    }
   ],
   "source": [
    "yhat = model.predict(tf.expand_dims(sample[0], axis=0))"
   ]
  },
  {
   "cell_type": "code",
   "execution_count": 61,
   "id": "22c4f77d-715d-409f-bc5e-3ebe48704e8f",
   "metadata": {},
   "outputs": [],
   "source": [
    "decoded = tf.keras.backend.ctc_decode(yhat, input_length=[75], greedy=True)[0][0].numpy()"
   ]
  },
  {
   "cell_type": "code",
   "execution_count": 62,
   "id": "e4d12ecc-b634-499e-a4bc-db9f010835fb",
   "metadata": {},
   "outputs": [
    {
     "name": "stdout",
     "output_type": "stream",
     "text": [
      "~~~~~~~~~~~~~~~~~~~~~~~~~~~~~~~~~~~~~~~~~~~~~~~~~~~~~~~~~~~~~~~~~~~~~~~~~~~~~~~~~~~~~~~~~~~~~~~~~~~~ PREDICTIONS\n"
     ]
    },
    {
     "data": {
      "text/plain": [
       "[<tf.Tensor: shape=(), dtype=string, numpy=b'bin red at s nine again'>]"
      ]
     },
     "execution_count": 62,
     "metadata": {},
     "output_type": "execute_result"
    }
   ],
   "source": [
    "print('~'*100, 'PREDICTIONS')\n",
    "[tf.strings.reduce_join([num_to_char(word) for word in sentence]) for sentence in decoded]"
   ]
  },
  {
   "attachments": {},
   "cell_type": "markdown",
   "id": "75d155e4",
   "metadata": {},
   "source": [
    "## Evaluation metrics and WER(word error rate)"
   ]
  },
  {
   "cell_type": "code",
   "execution_count": 64,
   "id": "7fed499d",
   "metadata": {},
   "outputs": [],
   "source": [
    "import pickle"
   ]
  },
  {
   "cell_type": "code",
   "execution_count": 65,
   "id": "c321c04c",
   "metadata": {},
   "outputs": [],
   "source": [
    "# Path to your pickle file\n",
    "file_path = 'training_history.pkl'\n",
    "\n",
    "# Load the pickle file\n",
    "with open(file_path, 'rb') as file:\n",
    "    history = pickle.load(file)"
   ]
  },
  {
   "cell_type": "code",
   "execution_count": 69,
   "id": "bf3cfeef",
   "metadata": {},
   "outputs": [
    {
     "name": "stdout",
     "output_type": "stream",
     "text": [
      "Training Loss: [83.79281616210938, 70.4928970336914, 66.44612121582031, 63.673187255859375, 61.62440490722656, 59.958492279052734, 58.774375915527344, 55.535823822021484, 53.508750915527344, 51.969032287597656, 50.19148254394531, 48.309852600097656, 46.725830078125, 44.74922180175781, 42.39545440673828, 40.441646575927734, 38.26045608520508, 36.424137115478516, 33.6458625793457, 31.59272575378418, 29.684171676635742, 27.470741271972656, 25.651981353759766, 23.534584045410156, 21.385910034179688, 19.55805206298828, 17.927127838134766, 16.663753509521484, 15.650525093078613, 14.42288589477539, 13.299582481384277, 12.276954650878906, 11.521810531616211, 10.818806648254395, 10.010773658752441, 9.506612777709961, 8.929075241088867, 8.537317276000977, 8.207317352294922, 7.848769664764404, 7.429142951965332, 7.155651092529297, 6.847716331481934, 6.7192487716674805, 6.46071720123291, 6.332621097564697, 6.21626091003418, 6.086723804473877, 5.866871356964111, 5.816737651824951]\n",
      "Validation Loss: [70.55963897705078, 64.58956909179688, 62.1849365234375, 59.06993103027344, 56.97963333129883, 56.82821273803711, 54.8926887512207, 50.87367630004883, 50.66104507446289, 47.789520263671875, 46.53243637084961, 44.6773796081543, 43.389366149902344, 40.3444709777832, 37.792293548583984, 35.173622131347656, 32.07746887207031, 30.468698501586914, 29.587404251098633, 26.681386947631836, 24.146747589111328, 21.688425064086914, 20.510332107543945, 18.171546936035156, 16.250389099121094, 15.090301513671875, 14.232710838317871, 11.634696960449219, 11.999283790588379, 10.516779899597168, 9.529664039611816, 8.85013198852539, 7.522870063781738, 7.179223537445068, 6.816526412963867, 6.479635715484619, 5.748210430145264, 5.362600803375244, 5.486176013946533, 5.094757080078125, 4.444298267364502, 4.753697395324707, 4.165414810180664, 4.002036094665527, 3.7677958011627197, 3.511378526687622, 3.618208408355713, 3.346132755279541, 3.4911348819732666, 2.9150640964508057]\n"
     ]
    }
   ],
   "source": [
    "loss = history['loss']\n",
    "val_loss = history['val_loss']\n",
    "\n",
    "print(\"Training Loss:\", history['loss'])\n",
    "print(\"Validation Loss:\", history['val_loss'])"
   ]
  },
  {
   "cell_type": "code",
   "execution_count": 71,
   "id": "b157f9df",
   "metadata": {},
   "outputs": [
    {
     "data": {
      "image/png": "[encoded data removed]",
      "text/plain": [
       "<Figure size 640x480 with 1 Axes>"
      ]
     },
     "metadata": {},
     "output_type": "display_data"
    }
   ],
   "source": [
    "import matplotlib.pyplot as plt\n",
    "\n",
    "# Assuming you have 'loss' and 'val_loss' from your history file\n",
    "epochs = range(1, len(history['loss']) + 1)\n",
    "\n",
    "plt.plot(epochs, history['loss'], 'bo', label='Training loss')\n",
    "plt.plot(epochs, history['val_loss'], 'b', label='Validation loss')\n",
    "plt.title('Training and Validation Loss')\n",
    "plt.xlabel('Epochs')\n",
    "plt.ylabel('Loss')\n",
    "plt.legend()\n",
    "plt.show()"
   ]
  },
  {
   "cell_type": "code",
   "execution_count": 72,
   "id": "9abf3822",
   "metadata": {},
   "outputs": [
    {
     "data": {
      "image/png": "[encoded data removed]",
      "text/plain": [
       "<Figure size 640x480 with 1 Axes>"
      ]
     },
     "metadata": {},
     "output_type": "display_data"
    }
   ],
   "source": [
    "import matplotlib.pyplot as plt\n",
    "\n",
    "# Assuming you have 'lr' from your history file\n",
    "epochs = range(1, len(history['lr']) + 1)\n",
    "\n",
    "plt.plot(epochs, history['lr'], 'r', label='Learning rate')\n",
    "plt.title('Learning Rate')\n",
    "plt.xlabel('Epochs')\n",
    "plt.ylabel('Learning Rate')\n",
    "plt.legend()\n",
    "plt.show()"
   ]
  },
  {
   "cell_type": "code",
   "execution_count": 76,
   "id": "a1a471cb",
   "metadata": {},
   "outputs": [
    {
     "data": {
      "image/png": "[encoded data removed]",
      "text/plain": [
       "<Figure size 640x480 with 1 Axes>"
      ]
     },
     "metadata": {},
     "output_type": "display_data"
    }
   ],
   "source": [
    "import pickle\n",
    "import matplotlib.pyplot as plt\n",
    "\n",
    "# Load the history data from the pickle file\n",
    "with open('training_history.pkl', 'rb') as file:\n",
    "    history = pickle.load(file)\n",
    "\n",
    "# Plotting training & validation loss values\n",
    "plt.plot(history['loss'])\n",
    "plt.plot(history['val_loss'])\n",
    "plt.title('Model loss')\n",
    "plt.ylabel('Loss')\n",
    "plt.xlabel('Epoch')\n",
    "plt.legend(['Train', 'Validation'], loc='upper left')\n",
    "plt.show()"
   ]
  },
  {
   "cell_type": "code",
   "execution_count": 77,
   "id": "5ad7f0f5",
   "metadata": {},
   "outputs": [],
   "source": [
    "import os\n",
    "import shutil\n",
    "\n",
    "# Path to your data and alignments folders\n",
    "data_folder = 'data/s1'\n",
    "alignments_folder = 'data/alignments/s1'\n",
    "\n",
    "# Create a new folder for the validation dataset\n",
    "validation_data_folder = 'data/validation'\n",
    "\n",
    "# Get the list of video files\n",
    "video_files = sorted([filename for filename in os.listdir(data_folder) if filename.endswith('.mpg')])\n",
    "\n",
    "# Take the last 50 videos for validation\n",
    "validation_videos = video_files[-50:]\n",
    "\n",
    "# Create folders for validation data and alignments if they don't exist\n",
    "os.makedirs(os.path.join(validation_data_folder, 'videos'), exist_ok=True)\n",
    "os.makedirs(os.path.join(validation_data_folder, 'alignments'), exist_ok=True)\n",
    "\n",
    "# Copy the validation videos and alignments to the new validation folders\n",
    "for video_file in validation_videos:\n",
    "    video_path = os.path.join(data_folder, video_file)\n",
    "    alignment_path = os.path.join(alignments_folder, video_file.replace('.mpg', '.align'))\n",
    "    \n",
    "    shutil.copy(video_path, os.path.join(validation_data_folder, 'videos', video_file))\n",
    "    shutil.copy(alignment_path, os.path.join(validation_data_folder, 'alignments', video_file.replace('.mpg', '.align')))"
   ]
  },
  {
   "cell_type": "code",
   "execution_count": 84,
   "id": "b636be9a",
   "metadata": {},
   "outputs": [],
   "source": [
    "def predict_videos(model, video_folder):\n",
    "    predictions = []\n",
    "    video_filenames = os.listdir(video_folder)\n",
    "    video_filenames.sort()\n",
    "\n",
    "    for video_filename in video_filenames:\n",
    "        video_path = os.path.join(video_folder, video_filename)\n",
    "        # Load video frames and preprocess if needed\n",
    "        # Predict using the loaded model\n",
    "        video_predictions = model.predict(video_path)\n",
    "        # Post-process predictions if necessary\n",
    "        predictions.append(video_predictions)\n",
    "    \n",
    "    return predictions"
   ]
  },
  {
   "cell_type": "code",
   "execution_count": 85,
   "id": "0f7016a9",
   "metadata": {},
   "outputs": [],
   "source": [
    "def load_ground_truths(alignments_path, video_filenames):\n",
    "    ground_truths = []\n",
    "    \n",
    "    for video_filename in video_filenames:\n",
    "        if not video_filename.endswith('.mpg'):\n",
    "            continue\n",
    "        alignment_filename = video_filename.replace('.mpg', '.align')\n",
    "        alignment_path = os.path.join(alignments_path, alignment_filename)\n",
    "        \n",
    "        with open(alignment_path, 'r') as file:\n",
    "            ground_truth = file.read().strip()  # Assuming alignments are in text format\n",
    "        ground_truths.append(ground_truth)\n",
    "    \n",
    "    return ground_truths"
   ]
  },
  {
   "cell_type": "code",
   "execution_count": 86,
   "id": "1c3a8f43",
   "metadata": {},
   "outputs": [],
   "source": [
    "from jiwer import wer\n",
    "\n",
    "def calculate_wer(ground_truths, predictions):\n",
    "    wer_scores = []\n",
    "    \n",
    "    for idx, (ground_truth, prediction) in enumerate(zip(ground_truths, predictions)):\n",
    "        wer_score = wer(ground_truth, prediction)\n",
    "        wer_scores.append(wer_score)\n",
    "        print(f\"Video {idx + 1} - WER: {wer_score:.4f}\")\n",
    "    \n",
    "    mean_wer = sum(wer_scores) / len(wer_scores)\n",
    "    print(f\"Mean WER: {mean_wer:.4f}\")"
   ]
  },
  {
   "cell_type": "code",
   "execution_count": 95,
   "id": "0f7c90fc",
   "metadata": {},
   "outputs": [
    {
     "name": "stdout",
     "output_type": "stream",
     "text": [
      "1/1 [==============================] - 1s 1s/step\n",
      "1/1 [==============================] - 1s 990ms/step\n",
      "1/1 [==============================] - 1s 842ms/step\n",
      "1/1 [==============================] - 1s 812ms/step\n",
      "1/1 [==============================] - 1s 814ms/step\n",
      "1/1 [==============================] - 1s 801ms/step\n",
      "1/1 [==============================] - 1s 852ms/step\n",
      "1/1 [==============================] - 1s 819ms/step\n",
      "1/1 [==============================] - 1s 825ms/step\n",
      "1/1 [==============================] - 1s 791ms/step\n",
      "1/1 [==============================] - 1s 798ms/step\n",
      "1/1 [==============================] - 1s 792ms/step\n",
      "1/1 [==============================] - 1s 788ms/step\n",
      "1/1 [==============================] - 1s 787ms/step\n",
      "1/1 [==============================] - 1s 784ms/step\n",
      "1/1 [==============================] - 1s 785ms/step\n",
      "1/1 [==============================] - 1s 782ms/step\n",
      "1/1 [==============================] - 1s 778ms/step\n",
      "1/1 [==============================] - 1s 779ms/step\n",
      "1/1 [==============================] - 1s 790ms/step\n",
      "1/1 [==============================] - 1s 791ms/step\n",
      "1/1 [==============================] - 1s 795ms/step\n",
      "1/1 [==============================] - 1s 790ms/step\n",
      "1/1 [==============================] - 1s 792ms/step\n",
      "1/1 [==============================] - 1s 790ms/step\n",
      "1/1 [==============================] - 1s 790ms/step\n",
      "1/1 [==============================] - 1s 791ms/step\n",
      "1/1 [==============================] - 1s 796ms/step\n",
      "1/1 [==============================] - 1s 791ms/step\n",
      "1/1 [==============================] - 1s 792ms/step\n",
      "1/1 [==============================] - 1s 794ms/step\n",
      "1/1 [==============================] - 1s 792ms/step\n",
      "1/1 [==============================] - 1s 792ms/step\n",
      "1/1 [==============================] - 1s 790ms/step\n",
      "1/1 [==============================] - 1s 790ms/step\n",
      "1/1 [==============================] - 1s 792ms/step\n",
      "1/1 [==============================] - 1s 796ms/step\n",
      "1/1 [==============================] - 1s 789ms/step\n",
      "1/1 [==============================] - 1s 790ms/step\n",
      "1/1 [==============================] - 1s 812ms/step\n",
      "1/1 [==============================] - 1s 796ms/step\n",
      "1/1 [==============================] - 1s 789ms/step\n",
      "1/1 [==============================] - 1s 787ms/step\n",
      "1/1 [==============================] - 1s 787ms/step\n",
      "1/1 [==============================] - 1s 798ms/step\n",
      "1/1 [==============================] - 1s 790ms/step\n",
      "1/1 [==============================] - 1s 798ms/step\n",
      "1/1 [==============================] - 1s 803ms/step\n",
      "1/1 [==============================] - 1s 802ms/step\n",
      "1/1 [==============================] - 1s 810ms/step\n"
     ]
    }
   ],
   "source": [
    "# Load your trained model\n",
    "model.load_weights('models/checkpoint')  # Load your model with its weights\n",
    "\n",
    "videos_folder = 'data/validation/videos'  # Directory containing validation videos\n",
    "\n",
    "video_filenames = os.listdir(videos_folder)\n",
    "video_filenames.sort()\n",
    "\n",
    "predictions_list = []\n",
    "\n",
    "for video_filename in video_filenames:\n",
    "    video_path = os.path.join(videos_folder, video_filename)\n",
    "    video_data = load_data(tf.convert_to_tensor(video_path))\n",
    "    yhat = model.predict(tf.expand_dims(video_data[0], axis=0))\n",
    "    decoded = tf.keras.backend.ctc_decode(yhat, input_length=[75], greedy=True)[0][0].numpy()\n",
    "    predictions = [tf.strings.reduce_join([num_to_char(word) for word in sentence]) for sentence in decoded]\n",
    "    predictions_list.append(predictions)"
   ]
  },
  {
   "cell_type": "code",
   "execution_count": 96,
   "id": "95d2b660",
   "metadata": {},
   "outputs": [
    {
     "name": "stdout",
     "output_type": "stream",
     "text": [
      "[<tf.Tensor: shape=(), dtype=string, numpy=b'set white at v one again'>]\n",
      "[<tf.Tensor: shape=(), dtype=string, numpy=b'set white at v zero please'>]\n",
      "[<tf.Tensor: shape=(), dtype=string, numpy=b'set white by c one soon'>]\n",
      "[<tf.Tensor: shape=(), dtype=string, numpy=b'set white by c two please'>]\n",
      "[<tf.Tensor: shape=(), dtype=string, numpy=b'set white by c three again'>]\n",
      "[<tf.Tensor: shape=(), dtype=string, numpy=b'set white by c zero now'>]\n",
      "[<tf.Tensor: shape=(), dtype=string, numpy=b'set white by i four now'>]\n",
      "[<tf.Tensor: shape=(), dtype=string, numpy=b'set white by i five soon'>]\n",
      "[<tf.Tensor: shape=(), dtype=string, numpy=b'set white by i six please'>]\n",
      "[<tf.Tensor: shape=(), dtype=string, numpy=b'set white by i seven again'>]\n",
      "[<tf.Tensor: shape=(), dtype=string, numpy=b'set white by o eight now'>]\n",
      "[<tf.Tensor: shape=(), dtype=string, numpy=b'set white by o nine soon'>]\n",
      "[<tf.Tensor: shape=(), dtype=string, numpy=b'set white by p one again'>]\n",
      "[<tf.Tensor: shape=(), dtype=string, numpy=b'set white by p zero please'>]\n",
      "[<tf.Tensor: shape=(), dtype=string, numpy=b'set white by v two now'>]\n",
      "[<tf.Tensor: shape=(), dtype=string, numpy=b'set white by v three soon'>]\n",
      "[<tf.Tensor: shape=(), dtype=string, numpy=b'set white by v four please'>]\n",
      "[<tf.Tensor: shape=(), dtype=string, numpy=b'set white by v five again'>]\n",
      "[<tf.Tensor: shape=(), dtype=string, numpy=b'set white in b two now'>]\n",
      "[<tf.Tensor: shape=(), dtype=string, numpy=b'set white in b three soon'>]\n",
      "[<tf.Tensor: shape=(), dtype=string, numpy=b'set white in b four please'>]\n",
      "[<tf.Tensor: shape=(), dtype=string, numpy=b'set white in b five again'>]\n",
      "[<tf.Tensor: shape=(), dtype=string, numpy=b'set white in h six now'>]\n",
      "[<tf.Tensor: shape=(), dtype=string, numpy=b'set white in seven soon'>]\n",
      "[<tf.Tensor: shape=(), dtype=string, numpy=b'set white in h eight please'>]\n",
      "[<tf.Tensor: shape=(), dtype=string, numpy=b'set white in t nine again'>]\n",
      "[<tf.Tensor: shape=(), dtype=string, numpy=b'set white in o one soon'>]\n",
      "[<tf.Tensor: shape=(), dtype=string, numpy=b'set white in o two please'>]\n",
      "[<tf.Tensor: shape=(), dtype=string, numpy=b'set white in o three again'>]\n",
      "[<tf.Tensor: shape=(), dtype=string, numpy=b'set white in o zero now'>]\n",
      "[<tf.Tensor: shape=(), dtype=string, numpy=b'set white in u four now'>]\n",
      "[<tf.Tensor: shape=(), dtype=string, numpy=b'set white in u five soon'>]\n",
      "[<tf.Tensor: shape=(), dtype=string, numpy=b'set white in u six please'>]\n",
      "[<tf.Tensor: shape=(), dtype=string, numpy=b'set white in u seven again'>]\n",
      "[<tf.Tensor: shape=(), dtype=string, numpy=b'set white with c four now'>]\n",
      "[<tf.Tensor: shape=(), dtype=string, numpy=b'set white with c five soon'>]\n",
      "[<tf.Tensor: shape=(), dtype=string, numpy=b'set white with c six please'>]\n",
      "[<tf.Tensor: shape=(), dtype=string, numpy=b'set white with c seveven again'>]\n",
      "[<tf.Tensor: shape=(), dtype=string, numpy=b'set white with i eight now'>]\n",
      "[<tf.Tensor: shape=(), dtype=string, numpy=b'set white with i nine soon'>]\n",
      "[<tf.Tensor: shape=(), dtype=string, numpy=b'set white with j one again'>]\n",
      "[<tf.Tensor: shape=(), dtype=string, numpy=b'set white with j zero please'>]\n",
      "[<tf.Tensor: shape=(), dtype=string, numpy=b'set white with p two now'>]\n",
      "[<tf.Tensor: shape=(), dtype=string, numpy=b'set white with p three soon'>]\n",
      "[<tf.Tensor: shape=(), dtype=string, numpy=b'set white with p four please'>]\n",
      "[<tf.Tensor: shape=(), dtype=string, numpy=b'set white with five again'>]\n",
      "[<tf.Tensor: shape=(), dtype=string, numpy=b'set white with v six now'>]\n",
      "[<tf.Tensor: shape=(), dtype=string, numpy=b'set white with v seven soon'>]\n",
      "[<tf.Tensor: shape=(), dtype=string, numpy=b'set white with v eight please'>]\n",
      "[<tf.Tensor: shape=(), dtype=string, numpy=b'set white with sp s nine again'>]\n"
     ]
    }
   ],
   "source": [
    "for predictions in predictions_list:\n",
    "    print(predictions)"
   ]
  },
  {
   "cell_type": "code",
   "execution_count": 97,
   "id": "d73ed5a0",
   "metadata": {},
   "outputs": [
    {
     "name": "stdout",
     "output_type": "stream",
     "text": [
      "set white at v one again\n",
      "set white at v zero please\n",
      "set white by c one soon\n",
      "set white by c two please\n",
      "set white by c three again\n",
      "set white by c zero now\n",
      "set white by i four now\n",
      "set white by i five soon\n",
      "set white by i six please\n",
      "set white by i seven again\n",
      "set white by o eight now\n",
      "set white by o nine soon\n",
      "set white by p one again\n",
      "set white by p zero please\n",
      "set white by v two now\n",
      "set white by v three soon\n",
      "set white by v four please\n",
      "set white by v five again\n",
      "set white in b two now\n",
      "set white in b three soon\n",
      "set white in b four please\n",
      "set white in b five again\n",
      "set white in h six now\n",
      "set white in seven soon\n",
      "set white in h eight please\n",
      "set white in t nine again\n",
      "set white in o one soon\n",
      "set white in o two please\n",
      "set white in o three again\n",
      "set white in o zero now\n",
      "set white in u four now\n",
      "set white in u five soon\n",
      "set white in u six please\n",
      "set white in u seven again\n",
      "set white with c four now\n",
      "set white with c five soon\n",
      "set white with c six please\n",
      "set white with c seveven again\n",
      "set white with i eight now\n",
      "set white with i nine soon\n",
      "set white with j one again\n",
      "set white with j zero please\n",
      "set white with p two now\n",
      "set white with p three soon\n",
      "set white with p four please\n",
      "set white with five again\n",
      "set white with v six now\n",
      "set white with v seven soon\n",
      "set white with v eight please\n",
      "set white with sp s nine again\n"
     ]
    }
   ],
   "source": [
    "for predictions in predictions_list:\n",
    "    for prediction in predictions:\n",
    "        if isinstance(prediction, tf.Tensor):\n",
    "            print(prediction.numpy().decode('utf-8'))"
   ]
  },
  {
   "cell_type": "code",
   "execution_count": 98,
   "id": "30bf30ec",
   "metadata": {},
   "outputs": [],
   "source": [
    "predictions_text = []\n",
    "\n",
    "for predictions in predictions_list:\n",
    "    for prediction in predictions:\n",
    "        if isinstance(prediction, tf.Tensor):\n",
    "            predictions_text.append(prediction.numpy().decode('utf-8'))"
   ]
  },
  {
   "cell_type": "code",
   "execution_count": 110,
   "id": "f57770cc",
   "metadata": {},
   "outputs": [],
   "source": [
    "import os\n",
    "\n",
    "ground_truths = []\n",
    "\n",
    "alignments_folder = 'data/validation/alignments'\n",
    "alignment_filenames = os.listdir(alignments_folder)\n",
    "alignment_filenames.sort()\n",
    "\n",
    "for alignment_filename in alignment_filenames:\n",
    "    alignment_path = os.path.join(alignments_folder, alignment_filename)\n",
    "    with open(alignment_path, 'r') as file:\n",
    "        lines = file.readlines()\n",
    "        text_segments = [line.split(maxsplit=2)[-1].strip() for line in lines if not line.startswith('0') and not line.strip().endswith('sil')]\n",
    "        ground_truth = ' '.join(text_segments)\n",
    "        ground_truths.append(ground_truth)"
   ]
  },
  {
   "cell_type": "code",
   "execution_count": 111,
   "id": "ce31b25a",
   "metadata": {},
   "outputs": [
    {
     "name": "stdout",
     "output_type": "stream",
     "text": [
      "['set white at v one again', 'set white at v zero please', 'set white by c one soon', 'set white by c two please', 'set white by c three again', 'set white by c zero now', 'set white by i four now', 'set white by i five soon', 'set white by i six please', 'set white by i seven again', 'set white by o eight now', 'set white by o nine soon', 'set white by p one again', 'set white by p zero please', 'set white by v two now', 'set white by v three soon', 'set white by v four please', 'set white by v five again', 'set white in b two now', 'set white in b three soon', 'set white in b four please', 'set white in b five again', 'set white in h six now', 'set white in h seven soon', 'set white in h eight please', 'set white in h nine again', 'set white in o one soon', 'set white in o two please', 'set white in o three again', 'set white in o zero now', 'set white in u four now', 'set white in u five soon', 'set white in u six please', 'set white in u seven again', 'set white with c four now', 'set white with c five soon', 'set white with c six please', 'set white with c seven again', 'set white with i eight now', 'set white with i nine soon', 'set white with j one again', 'set white with j zero please', 'set white with p two now', 'set white with p three soon', 'set white with p four please', 'set white with p five again', 'set white with v six now', 'set white with v seven soon', 'set white with v eight please', 'set white with sp v nine again']\n"
     ]
    }
   ],
   "source": [
    "print(ground_truths)"
   ]
  },
  {
   "cell_type": "code",
   "execution_count": 112,
   "id": "aa1cdf6c",
   "metadata": {},
   "outputs": [
    {
     "name": "stdout",
     "output_type": "stream",
     "text": [
      "['set white at v one again', 'set white at v zero please', 'set white by c one soon', 'set white by c two please', 'set white by c three again', 'set white by c zero now', 'set white by i four now', 'set white by i five soon', 'set white by i six please', 'set white by i seven again', 'set white by o eight now', 'set white by o nine soon', 'set white by p one again', 'set white by p zero please', 'set white by v two now', 'set white by v three soon', 'set white by v four please', 'set white by v five again', 'set white in b two now', 'set white in b three soon', 'set white in b four please', 'set white in b five again', 'set white in h six now', 'set white in seven soon', 'set white in h eight please', 'set white in t nine again', 'set white in o one soon', 'set white in o two please', 'set white in o three again', 'set white in o zero now', 'set white in u four now', 'set white in u five soon', 'set white in u six please', 'set white in u seven again', 'set white with c four now', 'set white with c five soon', 'set white with c six please', 'set white with c seveven again', 'set white with i eight now', 'set white with i nine soon', 'set white with j one again', 'set white with j zero please', 'set white with p two now', 'set white with p three soon', 'set white with p four please', 'set white with five again', 'set white with v six now', 'set white with v seven soon', 'set white with v eight please', 'set white with sp s nine again']\n"
     ]
    }
   ],
   "source": [
    "print(predictions_text)"
   ]
  },
  {
   "cell_type": "code",
   "execution_count": 114,
   "id": "e13f1179",
   "metadata": {},
   "outputs": [
    {
     "name": "stdout",
     "output_type": "stream",
     "text": [
      "Word Error Rate: 0.016611295681063124\n",
      "Error Percentage: 1.66%\n"
     ]
    }
   ],
   "source": [
    "import jiwer\n",
    "\n",
    "# Calculate WER\n",
    "wer = jiwer.wer(ground_truths, predictions_text)\n",
    "print(f\"Word Error Rate: {wer}\")\n",
    "\n",
    "error_percentage = wer * 100\n",
    "print(f\"Error Percentage: {error_percentage:.2f}%\")"
   ]
  }
 ],
 "metadata": {
  "kernelspec": {
   "display_name": "Python 3",
   "language": "python",
   "name": "python3"
  },
  "language_info": {
   "codemirror_mode": {
    "name": "ipython",
    "version": 3
   },
   "file_extension": ".py",
   "mimetype": "text/x-python",
   "name": "python",
   "nbconvert_exporter": "python",
   "pygments_lexer": "ipython3",
   "version": "3.10.12"
  }
 },
 "nbformat": 4,
 "nbformat_minor": 5
}
